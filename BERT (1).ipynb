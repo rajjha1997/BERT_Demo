{
  "nbformat": 4,
  "nbformat_minor": 0,
  "metadata": {
    "colab": {
      "name": "BERT.ipynb",
      "provenance": [],
      "collapsed_sections": [],
      "machine_shape": "hm"
    },
    "kernelspec": {
      "name": "python3",
      "display_name": "Python 3"
    },
    "widgets": {
      "application/vnd.jupyter.widget-state+json": {
        "bf470397e90f423f979019092a750840": {
          "model_module": "@jupyter-widgets/controls",
          "model_name": "HBoxModel",
          "model_module_version": "1.5.0",
          "state": {
            "_view_name": "HBoxView",
            "_dom_classes": [],
            "_model_name": "HBoxModel",
            "_view_module": "@jupyter-widgets/controls",
            "_model_module_version": "1.5.0",
            "_view_count": null,
            "_view_module_version": "1.5.0",
            "box_style": "",
            "layout": "IPY_MODEL_7790209f54534945b28454a8709ae4d6",
            "_model_module": "@jupyter-widgets/controls",
            "children": [
              "IPY_MODEL_ad45ebf71e1241b1afe37e57c8c91931",
              "IPY_MODEL_16220db71174431a901d4502ebeef16e",
              "IPY_MODEL_fd50f72a0a334bb3a2f89bd5595510ce"
            ]
          }
        },
        "7790209f54534945b28454a8709ae4d6": {
          "model_module": "@jupyter-widgets/base",
          "model_name": "LayoutModel",
          "model_module_version": "1.2.0",
          "state": {
            "_view_name": "LayoutView",
            "grid_template_rows": null,
            "right": null,
            "justify_content": null,
            "_view_module": "@jupyter-widgets/base",
            "overflow": null,
            "_model_module_version": "1.2.0",
            "_view_count": null,
            "flex_flow": null,
            "width": null,
            "min_width": null,
            "border": null,
            "align_items": null,
            "bottom": null,
            "_model_module": "@jupyter-widgets/base",
            "top": null,
            "grid_column": null,
            "overflow_y": null,
            "overflow_x": null,
            "grid_auto_flow": null,
            "grid_area": null,
            "grid_template_columns": null,
            "flex": null,
            "_model_name": "LayoutModel",
            "justify_items": null,
            "grid_row": null,
            "max_height": null,
            "align_content": null,
            "visibility": null,
            "align_self": null,
            "height": null,
            "min_height": null,
            "padding": null,
            "grid_auto_rows": null,
            "grid_gap": null,
            "max_width": null,
            "order": null,
            "_view_module_version": "1.2.0",
            "grid_template_areas": null,
            "object_position": null,
            "object_fit": null,
            "grid_auto_columns": null,
            "margin": null,
            "display": null,
            "left": null
          }
        },
        "ad45ebf71e1241b1afe37e57c8c91931": {
          "model_module": "@jupyter-widgets/controls",
          "model_name": "HTMLModel",
          "model_module_version": "1.5.0",
          "state": {
            "_view_name": "HTMLView",
            "style": "IPY_MODEL_e25f0c524cb642cd81a996425c083fe3",
            "_dom_classes": [],
            "description": "",
            "_model_name": "HTMLModel",
            "placeholder": "​",
            "_view_module": "@jupyter-widgets/controls",
            "_model_module_version": "1.5.0",
            "value": "Downloading: 100%",
            "_view_count": null,
            "_view_module_version": "1.5.0",
            "description_tooltip": null,
            "_model_module": "@jupyter-widgets/controls",
            "layout": "IPY_MODEL_799e0e8f1fc6430fb1d99ed38667c75e"
          }
        },
        "16220db71174431a901d4502ebeef16e": {
          "model_module": "@jupyter-widgets/controls",
          "model_name": "FloatProgressModel",
          "model_module_version": "1.5.0",
          "state": {
            "_view_name": "ProgressView",
            "style": "IPY_MODEL_d68fdccf44af419d8473914b8c99ad50",
            "_dom_classes": [],
            "description": "",
            "_model_name": "FloatProgressModel",
            "bar_style": "success",
            "max": 231508,
            "_view_module": "@jupyter-widgets/controls",
            "_model_module_version": "1.5.0",
            "value": 231508,
            "_view_count": null,
            "_view_module_version": "1.5.0",
            "orientation": "horizontal",
            "min": 0,
            "description_tooltip": null,
            "_model_module": "@jupyter-widgets/controls",
            "layout": "IPY_MODEL_ebf29958bea74ffab4ed14b89c3c0e94"
          }
        },
        "fd50f72a0a334bb3a2f89bd5595510ce": {
          "model_module": "@jupyter-widgets/controls",
          "model_name": "HTMLModel",
          "model_module_version": "1.5.0",
          "state": {
            "_view_name": "HTMLView",
            "style": "IPY_MODEL_b4b18af433eb4087beffa0d549cef0ba",
            "_dom_classes": [],
            "description": "",
            "_model_name": "HTMLModel",
            "placeholder": "​",
            "_view_module": "@jupyter-widgets/controls",
            "_model_module_version": "1.5.0",
            "value": " 232k/232k [00:00&lt;00:00, 2.49MB/s]",
            "_view_count": null,
            "_view_module_version": "1.5.0",
            "description_tooltip": null,
            "_model_module": "@jupyter-widgets/controls",
            "layout": "IPY_MODEL_e51cf223ba6b4a36a0a0d86babae9f3e"
          }
        },
        "e25f0c524cb642cd81a996425c083fe3": {
          "model_module": "@jupyter-widgets/controls",
          "model_name": "DescriptionStyleModel",
          "model_module_version": "1.5.0",
          "state": {
            "_view_name": "StyleView",
            "_model_name": "DescriptionStyleModel",
            "description_width": "",
            "_view_module": "@jupyter-widgets/base",
            "_model_module_version": "1.5.0",
            "_view_count": null,
            "_view_module_version": "1.2.0",
            "_model_module": "@jupyter-widgets/controls"
          }
        },
        "799e0e8f1fc6430fb1d99ed38667c75e": {
          "model_module": "@jupyter-widgets/base",
          "model_name": "LayoutModel",
          "model_module_version": "1.2.0",
          "state": {
            "_view_name": "LayoutView",
            "grid_template_rows": null,
            "right": null,
            "justify_content": null,
            "_view_module": "@jupyter-widgets/base",
            "overflow": null,
            "_model_module_version": "1.2.0",
            "_view_count": null,
            "flex_flow": null,
            "width": null,
            "min_width": null,
            "border": null,
            "align_items": null,
            "bottom": null,
            "_model_module": "@jupyter-widgets/base",
            "top": null,
            "grid_column": null,
            "overflow_y": null,
            "overflow_x": null,
            "grid_auto_flow": null,
            "grid_area": null,
            "grid_template_columns": null,
            "flex": null,
            "_model_name": "LayoutModel",
            "justify_items": null,
            "grid_row": null,
            "max_height": null,
            "align_content": null,
            "visibility": null,
            "align_self": null,
            "height": null,
            "min_height": null,
            "padding": null,
            "grid_auto_rows": null,
            "grid_gap": null,
            "max_width": null,
            "order": null,
            "_view_module_version": "1.2.0",
            "grid_template_areas": null,
            "object_position": null,
            "object_fit": null,
            "grid_auto_columns": null,
            "margin": null,
            "display": null,
            "left": null
          }
        },
        "d68fdccf44af419d8473914b8c99ad50": {
          "model_module": "@jupyter-widgets/controls",
          "model_name": "ProgressStyleModel",
          "model_module_version": "1.5.0",
          "state": {
            "_view_name": "StyleView",
            "_model_name": "ProgressStyleModel",
            "description_width": "",
            "_view_module": "@jupyter-widgets/base",
            "_model_module_version": "1.5.0",
            "_view_count": null,
            "_view_module_version": "1.2.0",
            "bar_color": null,
            "_model_module": "@jupyter-widgets/controls"
          }
        },
        "ebf29958bea74ffab4ed14b89c3c0e94": {
          "model_module": "@jupyter-widgets/base",
          "model_name": "LayoutModel",
          "model_module_version": "1.2.0",
          "state": {
            "_view_name": "LayoutView",
            "grid_template_rows": null,
            "right": null,
            "justify_content": null,
            "_view_module": "@jupyter-widgets/base",
            "overflow": null,
            "_model_module_version": "1.2.0",
            "_view_count": null,
            "flex_flow": null,
            "width": null,
            "min_width": null,
            "border": null,
            "align_items": null,
            "bottom": null,
            "_model_module": "@jupyter-widgets/base",
            "top": null,
            "grid_column": null,
            "overflow_y": null,
            "overflow_x": null,
            "grid_auto_flow": null,
            "grid_area": null,
            "grid_template_columns": null,
            "flex": null,
            "_model_name": "LayoutModel",
            "justify_items": null,
            "grid_row": null,
            "max_height": null,
            "align_content": null,
            "visibility": null,
            "align_self": null,
            "height": null,
            "min_height": null,
            "padding": null,
            "grid_auto_rows": null,
            "grid_gap": null,
            "max_width": null,
            "order": null,
            "_view_module_version": "1.2.0",
            "grid_template_areas": null,
            "object_position": null,
            "object_fit": null,
            "grid_auto_columns": null,
            "margin": null,
            "display": null,
            "left": null
          }
        },
        "b4b18af433eb4087beffa0d549cef0ba": {
          "model_module": "@jupyter-widgets/controls",
          "model_name": "DescriptionStyleModel",
          "model_module_version": "1.5.0",
          "state": {
            "_view_name": "StyleView",
            "_model_name": "DescriptionStyleModel",
            "description_width": "",
            "_view_module": "@jupyter-widgets/base",
            "_model_module_version": "1.5.0",
            "_view_count": null,
            "_view_module_version": "1.2.0",
            "_model_module": "@jupyter-widgets/controls"
          }
        },
        "e51cf223ba6b4a36a0a0d86babae9f3e": {
          "model_module": "@jupyter-widgets/base",
          "model_name": "LayoutModel",
          "model_module_version": "1.2.0",
          "state": {
            "_view_name": "LayoutView",
            "grid_template_rows": null,
            "right": null,
            "justify_content": null,
            "_view_module": "@jupyter-widgets/base",
            "overflow": null,
            "_model_module_version": "1.2.0",
            "_view_count": null,
            "flex_flow": null,
            "width": null,
            "min_width": null,
            "border": null,
            "align_items": null,
            "bottom": null,
            "_model_module": "@jupyter-widgets/base",
            "top": null,
            "grid_column": null,
            "overflow_y": null,
            "overflow_x": null,
            "grid_auto_flow": null,
            "grid_area": null,
            "grid_template_columns": null,
            "flex": null,
            "_model_name": "LayoutModel",
            "justify_items": null,
            "grid_row": null,
            "max_height": null,
            "align_content": null,
            "visibility": null,
            "align_self": null,
            "height": null,
            "min_height": null,
            "padding": null,
            "grid_auto_rows": null,
            "grid_gap": null,
            "max_width": null,
            "order": null,
            "_view_module_version": "1.2.0",
            "grid_template_areas": null,
            "object_position": null,
            "object_fit": null,
            "grid_auto_columns": null,
            "margin": null,
            "display": null,
            "left": null
          }
        },
        "bf76b9228ad44a1d8047599b533f42d5": {
          "model_module": "@jupyter-widgets/controls",
          "model_name": "HBoxModel",
          "model_module_version": "1.5.0",
          "state": {
            "_view_name": "HBoxView",
            "_dom_classes": [],
            "_model_name": "HBoxModel",
            "_view_module": "@jupyter-widgets/controls",
            "_model_module_version": "1.5.0",
            "_view_count": null,
            "_view_module_version": "1.5.0",
            "box_style": "",
            "layout": "IPY_MODEL_894a338e93424a6f875f37ded58c0f22",
            "_model_module": "@jupyter-widgets/controls",
            "children": [
              "IPY_MODEL_c31212df225e4cbfa2fe32d59e599129",
              "IPY_MODEL_57429dbd1e824ecaa6763f0164e51b62",
              "IPY_MODEL_089635f526ee41478ba07e4cbf8c1115"
            ]
          }
        },
        "894a338e93424a6f875f37ded58c0f22": {
          "model_module": "@jupyter-widgets/base",
          "model_name": "LayoutModel",
          "model_module_version": "1.2.0",
          "state": {
            "_view_name": "LayoutView",
            "grid_template_rows": null,
            "right": null,
            "justify_content": null,
            "_view_module": "@jupyter-widgets/base",
            "overflow": null,
            "_model_module_version": "1.2.0",
            "_view_count": null,
            "flex_flow": null,
            "width": null,
            "min_width": null,
            "border": null,
            "align_items": null,
            "bottom": null,
            "_model_module": "@jupyter-widgets/base",
            "top": null,
            "grid_column": null,
            "overflow_y": null,
            "overflow_x": null,
            "grid_auto_flow": null,
            "grid_area": null,
            "grid_template_columns": null,
            "flex": null,
            "_model_name": "LayoutModel",
            "justify_items": null,
            "grid_row": null,
            "max_height": null,
            "align_content": null,
            "visibility": null,
            "align_self": null,
            "height": null,
            "min_height": null,
            "padding": null,
            "grid_auto_rows": null,
            "grid_gap": null,
            "max_width": null,
            "order": null,
            "_view_module_version": "1.2.0",
            "grid_template_areas": null,
            "object_position": null,
            "object_fit": null,
            "grid_auto_columns": null,
            "margin": null,
            "display": null,
            "left": null
          }
        },
        "c31212df225e4cbfa2fe32d59e599129": {
          "model_module": "@jupyter-widgets/controls",
          "model_name": "HTMLModel",
          "model_module_version": "1.5.0",
          "state": {
            "_view_name": "HTMLView",
            "style": "IPY_MODEL_271b4b04a9ad4928afe292d95ea0217e",
            "_dom_classes": [],
            "description": "",
            "_model_name": "HTMLModel",
            "placeholder": "​",
            "_view_module": "@jupyter-widgets/controls",
            "_model_module_version": "1.5.0",
            "value": "Downloading: 100%",
            "_view_count": null,
            "_view_module_version": "1.5.0",
            "description_tooltip": null,
            "_model_module": "@jupyter-widgets/controls",
            "layout": "IPY_MODEL_63bf807a410f426eb0d80c17e0457d07"
          }
        },
        "57429dbd1e824ecaa6763f0164e51b62": {
          "model_module": "@jupyter-widgets/controls",
          "model_name": "FloatProgressModel",
          "model_module_version": "1.5.0",
          "state": {
            "_view_name": "ProgressView",
            "style": "IPY_MODEL_a80236fea9914756ad13fa0052cf3284",
            "_dom_classes": [],
            "description": "",
            "_model_name": "FloatProgressModel",
            "bar_style": "success",
            "max": 28,
            "_view_module": "@jupyter-widgets/controls",
            "_model_module_version": "1.5.0",
            "value": 28,
            "_view_count": null,
            "_view_module_version": "1.5.0",
            "orientation": "horizontal",
            "min": 0,
            "description_tooltip": null,
            "_model_module": "@jupyter-widgets/controls",
            "layout": "IPY_MODEL_8903234c09e04f10845ee6ec5fd5b8ea"
          }
        },
        "089635f526ee41478ba07e4cbf8c1115": {
          "model_module": "@jupyter-widgets/controls",
          "model_name": "HTMLModel",
          "model_module_version": "1.5.0",
          "state": {
            "_view_name": "HTMLView",
            "style": "IPY_MODEL_4302f5cfd7904afca92e88bbae739e0c",
            "_dom_classes": [],
            "description": "",
            "_model_name": "HTMLModel",
            "placeholder": "​",
            "_view_module": "@jupyter-widgets/controls",
            "_model_module_version": "1.5.0",
            "value": " 28.0/28.0 [00:00&lt;00:00, 913B/s]",
            "_view_count": null,
            "_view_module_version": "1.5.0",
            "description_tooltip": null,
            "_model_module": "@jupyter-widgets/controls",
            "layout": "IPY_MODEL_7d5a0ca1f3e749b886f408cd80a6896f"
          }
        },
        "271b4b04a9ad4928afe292d95ea0217e": {
          "model_module": "@jupyter-widgets/controls",
          "model_name": "DescriptionStyleModel",
          "model_module_version": "1.5.0",
          "state": {
            "_view_name": "StyleView",
            "_model_name": "DescriptionStyleModel",
            "description_width": "",
            "_view_module": "@jupyter-widgets/base",
            "_model_module_version": "1.5.0",
            "_view_count": null,
            "_view_module_version": "1.2.0",
            "_model_module": "@jupyter-widgets/controls"
          }
        },
        "63bf807a410f426eb0d80c17e0457d07": {
          "model_module": "@jupyter-widgets/base",
          "model_name": "LayoutModel",
          "model_module_version": "1.2.0",
          "state": {
            "_view_name": "LayoutView",
            "grid_template_rows": null,
            "right": null,
            "justify_content": null,
            "_view_module": "@jupyter-widgets/base",
            "overflow": null,
            "_model_module_version": "1.2.0",
            "_view_count": null,
            "flex_flow": null,
            "width": null,
            "min_width": null,
            "border": null,
            "align_items": null,
            "bottom": null,
            "_model_module": "@jupyter-widgets/base",
            "top": null,
            "grid_column": null,
            "overflow_y": null,
            "overflow_x": null,
            "grid_auto_flow": null,
            "grid_area": null,
            "grid_template_columns": null,
            "flex": null,
            "_model_name": "LayoutModel",
            "justify_items": null,
            "grid_row": null,
            "max_height": null,
            "align_content": null,
            "visibility": null,
            "align_self": null,
            "height": null,
            "min_height": null,
            "padding": null,
            "grid_auto_rows": null,
            "grid_gap": null,
            "max_width": null,
            "order": null,
            "_view_module_version": "1.2.0",
            "grid_template_areas": null,
            "object_position": null,
            "object_fit": null,
            "grid_auto_columns": null,
            "margin": null,
            "display": null,
            "left": null
          }
        },
        "a80236fea9914756ad13fa0052cf3284": {
          "model_module": "@jupyter-widgets/controls",
          "model_name": "ProgressStyleModel",
          "model_module_version": "1.5.0",
          "state": {
            "_view_name": "StyleView",
            "_model_name": "ProgressStyleModel",
            "description_width": "",
            "_view_module": "@jupyter-widgets/base",
            "_model_module_version": "1.5.0",
            "_view_count": null,
            "_view_module_version": "1.2.0",
            "bar_color": null,
            "_model_module": "@jupyter-widgets/controls"
          }
        },
        "8903234c09e04f10845ee6ec5fd5b8ea": {
          "model_module": "@jupyter-widgets/base",
          "model_name": "LayoutModel",
          "model_module_version": "1.2.0",
          "state": {
            "_view_name": "LayoutView",
            "grid_template_rows": null,
            "right": null,
            "justify_content": null,
            "_view_module": "@jupyter-widgets/base",
            "overflow": null,
            "_model_module_version": "1.2.0",
            "_view_count": null,
            "flex_flow": null,
            "width": null,
            "min_width": null,
            "border": null,
            "align_items": null,
            "bottom": null,
            "_model_module": "@jupyter-widgets/base",
            "top": null,
            "grid_column": null,
            "overflow_y": null,
            "overflow_x": null,
            "grid_auto_flow": null,
            "grid_area": null,
            "grid_template_columns": null,
            "flex": null,
            "_model_name": "LayoutModel",
            "justify_items": null,
            "grid_row": null,
            "max_height": null,
            "align_content": null,
            "visibility": null,
            "align_self": null,
            "height": null,
            "min_height": null,
            "padding": null,
            "grid_auto_rows": null,
            "grid_gap": null,
            "max_width": null,
            "order": null,
            "_view_module_version": "1.2.0",
            "grid_template_areas": null,
            "object_position": null,
            "object_fit": null,
            "grid_auto_columns": null,
            "margin": null,
            "display": null,
            "left": null
          }
        },
        "4302f5cfd7904afca92e88bbae739e0c": {
          "model_module": "@jupyter-widgets/controls",
          "model_name": "DescriptionStyleModel",
          "model_module_version": "1.5.0",
          "state": {
            "_view_name": "StyleView",
            "_model_name": "DescriptionStyleModel",
            "description_width": "",
            "_view_module": "@jupyter-widgets/base",
            "_model_module_version": "1.5.0",
            "_view_count": null,
            "_view_module_version": "1.2.0",
            "_model_module": "@jupyter-widgets/controls"
          }
        },
        "7d5a0ca1f3e749b886f408cd80a6896f": {
          "model_module": "@jupyter-widgets/base",
          "model_name": "LayoutModel",
          "model_module_version": "1.2.0",
          "state": {
            "_view_name": "LayoutView",
            "grid_template_rows": null,
            "right": null,
            "justify_content": null,
            "_view_module": "@jupyter-widgets/base",
            "overflow": null,
            "_model_module_version": "1.2.0",
            "_view_count": null,
            "flex_flow": null,
            "width": null,
            "min_width": null,
            "border": null,
            "align_items": null,
            "bottom": null,
            "_model_module": "@jupyter-widgets/base",
            "top": null,
            "grid_column": null,
            "overflow_y": null,
            "overflow_x": null,
            "grid_auto_flow": null,
            "grid_area": null,
            "grid_template_columns": null,
            "flex": null,
            "_model_name": "LayoutModel",
            "justify_items": null,
            "grid_row": null,
            "max_height": null,
            "align_content": null,
            "visibility": null,
            "align_self": null,
            "height": null,
            "min_height": null,
            "padding": null,
            "grid_auto_rows": null,
            "grid_gap": null,
            "max_width": null,
            "order": null,
            "_view_module_version": "1.2.0",
            "grid_template_areas": null,
            "object_position": null,
            "object_fit": null,
            "grid_auto_columns": null,
            "margin": null,
            "display": null,
            "left": null
          }
        },
        "74b2d35d93094674a6ac9c186ad44e9f": {
          "model_module": "@jupyter-widgets/controls",
          "model_name": "HBoxModel",
          "model_module_version": "1.5.0",
          "state": {
            "_view_name": "HBoxView",
            "_dom_classes": [],
            "_model_name": "HBoxModel",
            "_view_module": "@jupyter-widgets/controls",
            "_model_module_version": "1.5.0",
            "_view_count": null,
            "_view_module_version": "1.5.0",
            "box_style": "",
            "layout": "IPY_MODEL_545251753ab34b06aac7cb1dc649e0a6",
            "_model_module": "@jupyter-widgets/controls",
            "children": [
              "IPY_MODEL_6f46b28207c34fbc9a869c14c2aacd39",
              "IPY_MODEL_7e92588fb47b484aa4c1cc2f36ac4eeb",
              "IPY_MODEL_2e5b1821664a468097521dc16a8ddb23"
            ]
          }
        },
        "545251753ab34b06aac7cb1dc649e0a6": {
          "model_module": "@jupyter-widgets/base",
          "model_name": "LayoutModel",
          "model_module_version": "1.2.0",
          "state": {
            "_view_name": "LayoutView",
            "grid_template_rows": null,
            "right": null,
            "justify_content": null,
            "_view_module": "@jupyter-widgets/base",
            "overflow": null,
            "_model_module_version": "1.2.0",
            "_view_count": null,
            "flex_flow": null,
            "width": null,
            "min_width": null,
            "border": null,
            "align_items": null,
            "bottom": null,
            "_model_module": "@jupyter-widgets/base",
            "top": null,
            "grid_column": null,
            "overflow_y": null,
            "overflow_x": null,
            "grid_auto_flow": null,
            "grid_area": null,
            "grid_template_columns": null,
            "flex": null,
            "_model_name": "LayoutModel",
            "justify_items": null,
            "grid_row": null,
            "max_height": null,
            "align_content": null,
            "visibility": null,
            "align_self": null,
            "height": null,
            "min_height": null,
            "padding": null,
            "grid_auto_rows": null,
            "grid_gap": null,
            "max_width": null,
            "order": null,
            "_view_module_version": "1.2.0",
            "grid_template_areas": null,
            "object_position": null,
            "object_fit": null,
            "grid_auto_columns": null,
            "margin": null,
            "display": null,
            "left": null
          }
        },
        "6f46b28207c34fbc9a869c14c2aacd39": {
          "model_module": "@jupyter-widgets/controls",
          "model_name": "HTMLModel",
          "model_module_version": "1.5.0",
          "state": {
            "_view_name": "HTMLView",
            "style": "IPY_MODEL_78db09e4496a47abbad7ee686d00176e",
            "_dom_classes": [],
            "description": "",
            "_model_name": "HTMLModel",
            "placeholder": "​",
            "_view_module": "@jupyter-widgets/controls",
            "_model_module_version": "1.5.0",
            "value": "Downloading: 100%",
            "_view_count": null,
            "_view_module_version": "1.5.0",
            "description_tooltip": null,
            "_model_module": "@jupyter-widgets/controls",
            "layout": "IPY_MODEL_e657d393058247dcad7e0c2bebb8bc87"
          }
        },
        "7e92588fb47b484aa4c1cc2f36ac4eeb": {
          "model_module": "@jupyter-widgets/controls",
          "model_name": "FloatProgressModel",
          "model_module_version": "1.5.0",
          "state": {
            "_view_name": "ProgressView",
            "style": "IPY_MODEL_26783dbe8ae64918ad239232bf327e8d",
            "_dom_classes": [],
            "description": "",
            "_model_name": "FloatProgressModel",
            "bar_style": "success",
            "max": 466062,
            "_view_module": "@jupyter-widgets/controls",
            "_model_module_version": "1.5.0",
            "value": 466062,
            "_view_count": null,
            "_view_module_version": "1.5.0",
            "orientation": "horizontal",
            "min": 0,
            "description_tooltip": null,
            "_model_module": "@jupyter-widgets/controls",
            "layout": "IPY_MODEL_775a3cbd97e1481c80b46e515babed24"
          }
        },
        "2e5b1821664a468097521dc16a8ddb23": {
          "model_module": "@jupyter-widgets/controls",
          "model_name": "HTMLModel",
          "model_module_version": "1.5.0",
          "state": {
            "_view_name": "HTMLView",
            "style": "IPY_MODEL_e3bd9fb59a7a43f186df90de426629c8",
            "_dom_classes": [],
            "description": "",
            "_model_name": "HTMLModel",
            "placeholder": "​",
            "_view_module": "@jupyter-widgets/controls",
            "_model_module_version": "1.5.0",
            "value": " 466k/466k [00:00&lt;00:00, 2.30MB/s]",
            "_view_count": null,
            "_view_module_version": "1.5.0",
            "description_tooltip": null,
            "_model_module": "@jupyter-widgets/controls",
            "layout": "IPY_MODEL_ecc686f7fe5744a08693b79990afc283"
          }
        },
        "78db09e4496a47abbad7ee686d00176e": {
          "model_module": "@jupyter-widgets/controls",
          "model_name": "DescriptionStyleModel",
          "model_module_version": "1.5.0",
          "state": {
            "_view_name": "StyleView",
            "_model_name": "DescriptionStyleModel",
            "description_width": "",
            "_view_module": "@jupyter-widgets/base",
            "_model_module_version": "1.5.0",
            "_view_count": null,
            "_view_module_version": "1.2.0",
            "_model_module": "@jupyter-widgets/controls"
          }
        },
        "e657d393058247dcad7e0c2bebb8bc87": {
          "model_module": "@jupyter-widgets/base",
          "model_name": "LayoutModel",
          "model_module_version": "1.2.0",
          "state": {
            "_view_name": "LayoutView",
            "grid_template_rows": null,
            "right": null,
            "justify_content": null,
            "_view_module": "@jupyter-widgets/base",
            "overflow": null,
            "_model_module_version": "1.2.0",
            "_view_count": null,
            "flex_flow": null,
            "width": null,
            "min_width": null,
            "border": null,
            "align_items": null,
            "bottom": null,
            "_model_module": "@jupyter-widgets/base",
            "top": null,
            "grid_column": null,
            "overflow_y": null,
            "overflow_x": null,
            "grid_auto_flow": null,
            "grid_area": null,
            "grid_template_columns": null,
            "flex": null,
            "_model_name": "LayoutModel",
            "justify_items": null,
            "grid_row": null,
            "max_height": null,
            "align_content": null,
            "visibility": null,
            "align_self": null,
            "height": null,
            "min_height": null,
            "padding": null,
            "grid_auto_rows": null,
            "grid_gap": null,
            "max_width": null,
            "order": null,
            "_view_module_version": "1.2.0",
            "grid_template_areas": null,
            "object_position": null,
            "object_fit": null,
            "grid_auto_columns": null,
            "margin": null,
            "display": null,
            "left": null
          }
        },
        "26783dbe8ae64918ad239232bf327e8d": {
          "model_module": "@jupyter-widgets/controls",
          "model_name": "ProgressStyleModel",
          "model_module_version": "1.5.0",
          "state": {
            "_view_name": "StyleView",
            "_model_name": "ProgressStyleModel",
            "description_width": "",
            "_view_module": "@jupyter-widgets/base",
            "_model_module_version": "1.5.0",
            "_view_count": null,
            "_view_module_version": "1.2.0",
            "bar_color": null,
            "_model_module": "@jupyter-widgets/controls"
          }
        },
        "775a3cbd97e1481c80b46e515babed24": {
          "model_module": "@jupyter-widgets/base",
          "model_name": "LayoutModel",
          "model_module_version": "1.2.0",
          "state": {
            "_view_name": "LayoutView",
            "grid_template_rows": null,
            "right": null,
            "justify_content": null,
            "_view_module": "@jupyter-widgets/base",
            "overflow": null,
            "_model_module_version": "1.2.0",
            "_view_count": null,
            "flex_flow": null,
            "width": null,
            "min_width": null,
            "border": null,
            "align_items": null,
            "bottom": null,
            "_model_module": "@jupyter-widgets/base",
            "top": null,
            "grid_column": null,
            "overflow_y": null,
            "overflow_x": null,
            "grid_auto_flow": null,
            "grid_area": null,
            "grid_template_columns": null,
            "flex": null,
            "_model_name": "LayoutModel",
            "justify_items": null,
            "grid_row": null,
            "max_height": null,
            "align_content": null,
            "visibility": null,
            "align_self": null,
            "height": null,
            "min_height": null,
            "padding": null,
            "grid_auto_rows": null,
            "grid_gap": null,
            "max_width": null,
            "order": null,
            "_view_module_version": "1.2.0",
            "grid_template_areas": null,
            "object_position": null,
            "object_fit": null,
            "grid_auto_columns": null,
            "margin": null,
            "display": null,
            "left": null
          }
        },
        "e3bd9fb59a7a43f186df90de426629c8": {
          "model_module": "@jupyter-widgets/controls",
          "model_name": "DescriptionStyleModel",
          "model_module_version": "1.5.0",
          "state": {
            "_view_name": "StyleView",
            "_model_name": "DescriptionStyleModel",
            "description_width": "",
            "_view_module": "@jupyter-widgets/base",
            "_model_module_version": "1.5.0",
            "_view_count": null,
            "_view_module_version": "1.2.0",
            "_model_module": "@jupyter-widgets/controls"
          }
        },
        "ecc686f7fe5744a08693b79990afc283": {
          "model_module": "@jupyter-widgets/base",
          "model_name": "LayoutModel",
          "model_module_version": "1.2.0",
          "state": {
            "_view_name": "LayoutView",
            "grid_template_rows": null,
            "right": null,
            "justify_content": null,
            "_view_module": "@jupyter-widgets/base",
            "overflow": null,
            "_model_module_version": "1.2.0",
            "_view_count": null,
            "flex_flow": null,
            "width": null,
            "min_width": null,
            "border": null,
            "align_items": null,
            "bottom": null,
            "_model_module": "@jupyter-widgets/base",
            "top": null,
            "grid_column": null,
            "overflow_y": null,
            "overflow_x": null,
            "grid_auto_flow": null,
            "grid_area": null,
            "grid_template_columns": null,
            "flex": null,
            "_model_name": "LayoutModel",
            "justify_items": null,
            "grid_row": null,
            "max_height": null,
            "align_content": null,
            "visibility": null,
            "align_self": null,
            "height": null,
            "min_height": null,
            "padding": null,
            "grid_auto_rows": null,
            "grid_gap": null,
            "max_width": null,
            "order": null,
            "_view_module_version": "1.2.0",
            "grid_template_areas": null,
            "object_position": null,
            "object_fit": null,
            "grid_auto_columns": null,
            "margin": null,
            "display": null,
            "left": null
          }
        },
        "731ba12dc2994e59969c36d1276d2181": {
          "model_module": "@jupyter-widgets/controls",
          "model_name": "HBoxModel",
          "model_module_version": "1.5.0",
          "state": {
            "_view_name": "HBoxView",
            "_dom_classes": [],
            "_model_name": "HBoxModel",
            "_view_module": "@jupyter-widgets/controls",
            "_model_module_version": "1.5.0",
            "_view_count": null,
            "_view_module_version": "1.5.0",
            "box_style": "",
            "layout": "IPY_MODEL_41f647c2605a4ed99a1c9bc13e68aee6",
            "_model_module": "@jupyter-widgets/controls",
            "children": [
              "IPY_MODEL_5a1fd7d0159247c9a72266da07d9ba52",
              "IPY_MODEL_7034936d6f0b4a368f4b1c6e6aacc8d4",
              "IPY_MODEL_b573934018f249288cdabf8b55c1c0f8"
            ]
          }
        },
        "41f647c2605a4ed99a1c9bc13e68aee6": {
          "model_module": "@jupyter-widgets/base",
          "model_name": "LayoutModel",
          "model_module_version": "1.2.0",
          "state": {
            "_view_name": "LayoutView",
            "grid_template_rows": null,
            "right": null,
            "justify_content": null,
            "_view_module": "@jupyter-widgets/base",
            "overflow": null,
            "_model_module_version": "1.2.0",
            "_view_count": null,
            "flex_flow": null,
            "width": null,
            "min_width": null,
            "border": null,
            "align_items": null,
            "bottom": null,
            "_model_module": "@jupyter-widgets/base",
            "top": null,
            "grid_column": null,
            "overflow_y": null,
            "overflow_x": null,
            "grid_auto_flow": null,
            "grid_area": null,
            "grid_template_columns": null,
            "flex": null,
            "_model_name": "LayoutModel",
            "justify_items": null,
            "grid_row": null,
            "max_height": null,
            "align_content": null,
            "visibility": null,
            "align_self": null,
            "height": null,
            "min_height": null,
            "padding": null,
            "grid_auto_rows": null,
            "grid_gap": null,
            "max_width": null,
            "order": null,
            "_view_module_version": "1.2.0",
            "grid_template_areas": null,
            "object_position": null,
            "object_fit": null,
            "grid_auto_columns": null,
            "margin": null,
            "display": null,
            "left": null
          }
        },
        "5a1fd7d0159247c9a72266da07d9ba52": {
          "model_module": "@jupyter-widgets/controls",
          "model_name": "HTMLModel",
          "model_module_version": "1.5.0",
          "state": {
            "_view_name": "HTMLView",
            "style": "IPY_MODEL_5abfd4d6d7ff4df5803c1ae16c128dc5",
            "_dom_classes": [],
            "description": "",
            "_model_name": "HTMLModel",
            "placeholder": "​",
            "_view_module": "@jupyter-widgets/controls",
            "_model_module_version": "1.5.0",
            "value": "Downloading: 100%",
            "_view_count": null,
            "_view_module_version": "1.5.0",
            "description_tooltip": null,
            "_model_module": "@jupyter-widgets/controls",
            "layout": "IPY_MODEL_1c71d268c3594e1fbb014eb7e2ad130b"
          }
        },
        "7034936d6f0b4a368f4b1c6e6aacc8d4": {
          "model_module": "@jupyter-widgets/controls",
          "model_name": "FloatProgressModel",
          "model_module_version": "1.5.0",
          "state": {
            "_view_name": "ProgressView",
            "style": "IPY_MODEL_81f580b0c1b9417f9b7f3cc135dd84b3",
            "_dom_classes": [],
            "description": "",
            "_model_name": "FloatProgressModel",
            "bar_style": "success",
            "max": 483,
            "_view_module": "@jupyter-widgets/controls",
            "_model_module_version": "1.5.0",
            "value": 483,
            "_view_count": null,
            "_view_module_version": "1.5.0",
            "orientation": "horizontal",
            "min": 0,
            "description_tooltip": null,
            "_model_module": "@jupyter-widgets/controls",
            "layout": "IPY_MODEL_7bb8374f4d6a4e12840106a661c4612b"
          }
        },
        "b573934018f249288cdabf8b55c1c0f8": {
          "model_module": "@jupyter-widgets/controls",
          "model_name": "HTMLModel",
          "model_module_version": "1.5.0",
          "state": {
            "_view_name": "HTMLView",
            "style": "IPY_MODEL_e80a436ac5fd4116add0c9da7d55d8f2",
            "_dom_classes": [],
            "description": "",
            "_model_name": "HTMLModel",
            "placeholder": "​",
            "_view_module": "@jupyter-widgets/controls",
            "_model_module_version": "1.5.0",
            "value": " 483/483 [00:00&lt;00:00, 15.5kB/s]",
            "_view_count": null,
            "_view_module_version": "1.5.0",
            "description_tooltip": null,
            "_model_module": "@jupyter-widgets/controls",
            "layout": "IPY_MODEL_9f4af15fe29a4685836d7ac42d234da4"
          }
        },
        "5abfd4d6d7ff4df5803c1ae16c128dc5": {
          "model_module": "@jupyter-widgets/controls",
          "model_name": "DescriptionStyleModel",
          "model_module_version": "1.5.0",
          "state": {
            "_view_name": "StyleView",
            "_model_name": "DescriptionStyleModel",
            "description_width": "",
            "_view_module": "@jupyter-widgets/base",
            "_model_module_version": "1.5.0",
            "_view_count": null,
            "_view_module_version": "1.2.0",
            "_model_module": "@jupyter-widgets/controls"
          }
        },
        "1c71d268c3594e1fbb014eb7e2ad130b": {
          "model_module": "@jupyter-widgets/base",
          "model_name": "LayoutModel",
          "model_module_version": "1.2.0",
          "state": {
            "_view_name": "LayoutView",
            "grid_template_rows": null,
            "right": null,
            "justify_content": null,
            "_view_module": "@jupyter-widgets/base",
            "overflow": null,
            "_model_module_version": "1.2.0",
            "_view_count": null,
            "flex_flow": null,
            "width": null,
            "min_width": null,
            "border": null,
            "align_items": null,
            "bottom": null,
            "_model_module": "@jupyter-widgets/base",
            "top": null,
            "grid_column": null,
            "overflow_y": null,
            "overflow_x": null,
            "grid_auto_flow": null,
            "grid_area": null,
            "grid_template_columns": null,
            "flex": null,
            "_model_name": "LayoutModel",
            "justify_items": null,
            "grid_row": null,
            "max_height": null,
            "align_content": null,
            "visibility": null,
            "align_self": null,
            "height": null,
            "min_height": null,
            "padding": null,
            "grid_auto_rows": null,
            "grid_gap": null,
            "max_width": null,
            "order": null,
            "_view_module_version": "1.2.0",
            "grid_template_areas": null,
            "object_position": null,
            "object_fit": null,
            "grid_auto_columns": null,
            "margin": null,
            "display": null,
            "left": null
          }
        },
        "81f580b0c1b9417f9b7f3cc135dd84b3": {
          "model_module": "@jupyter-widgets/controls",
          "model_name": "ProgressStyleModel",
          "model_module_version": "1.5.0",
          "state": {
            "_view_name": "StyleView",
            "_model_name": "ProgressStyleModel",
            "description_width": "",
            "_view_module": "@jupyter-widgets/base",
            "_model_module_version": "1.5.0",
            "_view_count": null,
            "_view_module_version": "1.2.0",
            "bar_color": null,
            "_model_module": "@jupyter-widgets/controls"
          }
        },
        "7bb8374f4d6a4e12840106a661c4612b": {
          "model_module": "@jupyter-widgets/base",
          "model_name": "LayoutModel",
          "model_module_version": "1.2.0",
          "state": {
            "_view_name": "LayoutView",
            "grid_template_rows": null,
            "right": null,
            "justify_content": null,
            "_view_module": "@jupyter-widgets/base",
            "overflow": null,
            "_model_module_version": "1.2.0",
            "_view_count": null,
            "flex_flow": null,
            "width": null,
            "min_width": null,
            "border": null,
            "align_items": null,
            "bottom": null,
            "_model_module": "@jupyter-widgets/base",
            "top": null,
            "grid_column": null,
            "overflow_y": null,
            "overflow_x": null,
            "grid_auto_flow": null,
            "grid_area": null,
            "grid_template_columns": null,
            "flex": null,
            "_model_name": "LayoutModel",
            "justify_items": null,
            "grid_row": null,
            "max_height": null,
            "align_content": null,
            "visibility": null,
            "align_self": null,
            "height": null,
            "min_height": null,
            "padding": null,
            "grid_auto_rows": null,
            "grid_gap": null,
            "max_width": null,
            "order": null,
            "_view_module_version": "1.2.0",
            "grid_template_areas": null,
            "object_position": null,
            "object_fit": null,
            "grid_auto_columns": null,
            "margin": null,
            "display": null,
            "left": null
          }
        },
        "e80a436ac5fd4116add0c9da7d55d8f2": {
          "model_module": "@jupyter-widgets/controls",
          "model_name": "DescriptionStyleModel",
          "model_module_version": "1.5.0",
          "state": {
            "_view_name": "StyleView",
            "_model_name": "DescriptionStyleModel",
            "description_width": "",
            "_view_module": "@jupyter-widgets/base",
            "_model_module_version": "1.5.0",
            "_view_count": null,
            "_view_module_version": "1.2.0",
            "_model_module": "@jupyter-widgets/controls"
          }
        },
        "9f4af15fe29a4685836d7ac42d234da4": {
          "model_module": "@jupyter-widgets/base",
          "model_name": "LayoutModel",
          "model_module_version": "1.2.0",
          "state": {
            "_view_name": "LayoutView",
            "grid_template_rows": null,
            "right": null,
            "justify_content": null,
            "_view_module": "@jupyter-widgets/base",
            "overflow": null,
            "_model_module_version": "1.2.0",
            "_view_count": null,
            "flex_flow": null,
            "width": null,
            "min_width": null,
            "border": null,
            "align_items": null,
            "bottom": null,
            "_model_module": "@jupyter-widgets/base",
            "top": null,
            "grid_column": null,
            "overflow_y": null,
            "overflow_x": null,
            "grid_auto_flow": null,
            "grid_area": null,
            "grid_template_columns": null,
            "flex": null,
            "_model_name": "LayoutModel",
            "justify_items": null,
            "grid_row": null,
            "max_height": null,
            "align_content": null,
            "visibility": null,
            "align_self": null,
            "height": null,
            "min_height": null,
            "padding": null,
            "grid_auto_rows": null,
            "grid_gap": null,
            "max_width": null,
            "order": null,
            "_view_module_version": "1.2.0",
            "grid_template_areas": null,
            "object_position": null,
            "object_fit": null,
            "grid_auto_columns": null,
            "margin": null,
            "display": null,
            "left": null
          }
        },
        "3cd70156a572481ab9c806f9afb7726f": {
          "model_module": "@jupyter-widgets/controls",
          "model_name": "HBoxModel",
          "model_module_version": "1.5.0",
          "state": {
            "_view_name": "HBoxView",
            "_dom_classes": [],
            "_model_name": "HBoxModel",
            "_view_module": "@jupyter-widgets/controls",
            "_model_module_version": "1.5.0",
            "_view_count": null,
            "_view_module_version": "1.5.0",
            "box_style": "",
            "layout": "IPY_MODEL_c19cd0cc8e6b4546b91a4a0c9c32d1bc",
            "_model_module": "@jupyter-widgets/controls",
            "children": [
              "IPY_MODEL_0af21b7ec5a5466f830ee945cbc2529f",
              "IPY_MODEL_2910cde5038a4099aa0502c2df6724e1",
              "IPY_MODEL_74ef72a01ed5475ab6f9ddbfb909fa5b"
            ]
          }
        },
        "c19cd0cc8e6b4546b91a4a0c9c32d1bc": {
          "model_module": "@jupyter-widgets/base",
          "model_name": "LayoutModel",
          "model_module_version": "1.2.0",
          "state": {
            "_view_name": "LayoutView",
            "grid_template_rows": null,
            "right": null,
            "justify_content": null,
            "_view_module": "@jupyter-widgets/base",
            "overflow": null,
            "_model_module_version": "1.2.0",
            "_view_count": null,
            "flex_flow": null,
            "width": null,
            "min_width": null,
            "border": null,
            "align_items": null,
            "bottom": null,
            "_model_module": "@jupyter-widgets/base",
            "top": null,
            "grid_column": null,
            "overflow_y": null,
            "overflow_x": null,
            "grid_auto_flow": null,
            "grid_area": null,
            "grid_template_columns": null,
            "flex": null,
            "_model_name": "LayoutModel",
            "justify_items": null,
            "grid_row": null,
            "max_height": null,
            "align_content": null,
            "visibility": null,
            "align_self": null,
            "height": null,
            "min_height": null,
            "padding": null,
            "grid_auto_rows": null,
            "grid_gap": null,
            "max_width": null,
            "order": null,
            "_view_module_version": "1.2.0",
            "grid_template_areas": null,
            "object_position": null,
            "object_fit": null,
            "grid_auto_columns": null,
            "margin": null,
            "display": null,
            "left": null
          }
        },
        "0af21b7ec5a5466f830ee945cbc2529f": {
          "model_module": "@jupyter-widgets/controls",
          "model_name": "HTMLModel",
          "model_module_version": "1.5.0",
          "state": {
            "_view_name": "HTMLView",
            "style": "IPY_MODEL_aa351c3762364c0ea639f4d1304e83d0",
            "_dom_classes": [],
            "description": "",
            "_model_name": "HTMLModel",
            "placeholder": "​",
            "_view_module": "@jupyter-widgets/controls",
            "_model_module_version": "1.5.0",
            "value": "Downloading: 100%",
            "_view_count": null,
            "_view_module_version": "1.5.0",
            "description_tooltip": null,
            "_model_module": "@jupyter-widgets/controls",
            "layout": "IPY_MODEL_cba9e490de7d4dea9e40c787fc3f1fc4"
          }
        },
        "2910cde5038a4099aa0502c2df6724e1": {
          "model_module": "@jupyter-widgets/controls",
          "model_name": "FloatProgressModel",
          "model_module_version": "1.5.0",
          "state": {
            "_view_name": "ProgressView",
            "style": "IPY_MODEL_b661243be4b44075a14df84ce203e759",
            "_dom_classes": [],
            "description": "",
            "_model_name": "FloatProgressModel",
            "bar_style": "success",
            "max": 363423424,
            "_view_module": "@jupyter-widgets/controls",
            "_model_module_version": "1.5.0",
            "value": 363423424,
            "_view_count": null,
            "_view_module_version": "1.5.0",
            "orientation": "horizontal",
            "min": 0,
            "description_tooltip": null,
            "_model_module": "@jupyter-widgets/controls",
            "layout": "IPY_MODEL_0848d34b3bad496fa6a2eff2b010c16f"
          }
        },
        "74ef72a01ed5475ab6f9ddbfb909fa5b": {
          "model_module": "@jupyter-widgets/controls",
          "model_name": "HTMLModel",
          "model_module_version": "1.5.0",
          "state": {
            "_view_name": "HTMLView",
            "style": "IPY_MODEL_a524dee66a294b3d8456a61ffe89563d",
            "_dom_classes": [],
            "description": "",
            "_model_name": "HTMLModel",
            "placeholder": "​",
            "_view_module": "@jupyter-widgets/controls",
            "_model_module_version": "1.5.0",
            "value": " 363M/363M [00:12&lt;00:00, 39.5MB/s]",
            "_view_count": null,
            "_view_module_version": "1.5.0",
            "description_tooltip": null,
            "_model_module": "@jupyter-widgets/controls",
            "layout": "IPY_MODEL_5829be7fff184f0cb28a75617fbf5f0c"
          }
        },
        "aa351c3762364c0ea639f4d1304e83d0": {
          "model_module": "@jupyter-widgets/controls",
          "model_name": "DescriptionStyleModel",
          "model_module_version": "1.5.0",
          "state": {
            "_view_name": "StyleView",
            "_model_name": "DescriptionStyleModel",
            "description_width": "",
            "_view_module": "@jupyter-widgets/base",
            "_model_module_version": "1.5.0",
            "_view_count": null,
            "_view_module_version": "1.2.0",
            "_model_module": "@jupyter-widgets/controls"
          }
        },
        "cba9e490de7d4dea9e40c787fc3f1fc4": {
          "model_module": "@jupyter-widgets/base",
          "model_name": "LayoutModel",
          "model_module_version": "1.2.0",
          "state": {
            "_view_name": "LayoutView",
            "grid_template_rows": null,
            "right": null,
            "justify_content": null,
            "_view_module": "@jupyter-widgets/base",
            "overflow": null,
            "_model_module_version": "1.2.0",
            "_view_count": null,
            "flex_flow": null,
            "width": null,
            "min_width": null,
            "border": null,
            "align_items": null,
            "bottom": null,
            "_model_module": "@jupyter-widgets/base",
            "top": null,
            "grid_column": null,
            "overflow_y": null,
            "overflow_x": null,
            "grid_auto_flow": null,
            "grid_area": null,
            "grid_template_columns": null,
            "flex": null,
            "_model_name": "LayoutModel",
            "justify_items": null,
            "grid_row": null,
            "max_height": null,
            "align_content": null,
            "visibility": null,
            "align_self": null,
            "height": null,
            "min_height": null,
            "padding": null,
            "grid_auto_rows": null,
            "grid_gap": null,
            "max_width": null,
            "order": null,
            "_view_module_version": "1.2.0",
            "grid_template_areas": null,
            "object_position": null,
            "object_fit": null,
            "grid_auto_columns": null,
            "margin": null,
            "display": null,
            "left": null
          }
        },
        "b661243be4b44075a14df84ce203e759": {
          "model_module": "@jupyter-widgets/controls",
          "model_name": "ProgressStyleModel",
          "model_module_version": "1.5.0",
          "state": {
            "_view_name": "StyleView",
            "_model_name": "ProgressStyleModel",
            "description_width": "",
            "_view_module": "@jupyter-widgets/base",
            "_model_module_version": "1.5.0",
            "_view_count": null,
            "_view_module_version": "1.2.0",
            "bar_color": null,
            "_model_module": "@jupyter-widgets/controls"
          }
        },
        "0848d34b3bad496fa6a2eff2b010c16f": {
          "model_module": "@jupyter-widgets/base",
          "model_name": "LayoutModel",
          "model_module_version": "1.2.0",
          "state": {
            "_view_name": "LayoutView",
            "grid_template_rows": null,
            "right": null,
            "justify_content": null,
            "_view_module": "@jupyter-widgets/base",
            "overflow": null,
            "_model_module_version": "1.2.0",
            "_view_count": null,
            "flex_flow": null,
            "width": null,
            "min_width": null,
            "border": null,
            "align_items": null,
            "bottom": null,
            "_model_module": "@jupyter-widgets/base",
            "top": null,
            "grid_column": null,
            "overflow_y": null,
            "overflow_x": null,
            "grid_auto_flow": null,
            "grid_area": null,
            "grid_template_columns": null,
            "flex": null,
            "_model_name": "LayoutModel",
            "justify_items": null,
            "grid_row": null,
            "max_height": null,
            "align_content": null,
            "visibility": null,
            "align_self": null,
            "height": null,
            "min_height": null,
            "padding": null,
            "grid_auto_rows": null,
            "grid_gap": null,
            "max_width": null,
            "order": null,
            "_view_module_version": "1.2.0",
            "grid_template_areas": null,
            "object_position": null,
            "object_fit": null,
            "grid_auto_columns": null,
            "margin": null,
            "display": null,
            "left": null
          }
        },
        "a524dee66a294b3d8456a61ffe89563d": {
          "model_module": "@jupyter-widgets/controls",
          "model_name": "DescriptionStyleModel",
          "model_module_version": "1.5.0",
          "state": {
            "_view_name": "StyleView",
            "_model_name": "DescriptionStyleModel",
            "description_width": "",
            "_view_module": "@jupyter-widgets/base",
            "_model_module_version": "1.5.0",
            "_view_count": null,
            "_view_module_version": "1.2.0",
            "_model_module": "@jupyter-widgets/controls"
          }
        },
        "5829be7fff184f0cb28a75617fbf5f0c": {
          "model_module": "@jupyter-widgets/base",
          "model_name": "LayoutModel",
          "model_module_version": "1.2.0",
          "state": {
            "_view_name": "LayoutView",
            "grid_template_rows": null,
            "right": null,
            "justify_content": null,
            "_view_module": "@jupyter-widgets/base",
            "overflow": null,
            "_model_module_version": "1.2.0",
            "_view_count": null,
            "flex_flow": null,
            "width": null,
            "min_width": null,
            "border": null,
            "align_items": null,
            "bottom": null,
            "_model_module": "@jupyter-widgets/base",
            "top": null,
            "grid_column": null,
            "overflow_y": null,
            "overflow_x": null,
            "grid_auto_flow": null,
            "grid_area": null,
            "grid_template_columns": null,
            "flex": null,
            "_model_name": "LayoutModel",
            "justify_items": null,
            "grid_row": null,
            "max_height": null,
            "align_content": null,
            "visibility": null,
            "align_self": null,
            "height": null,
            "min_height": null,
            "padding": null,
            "grid_auto_rows": null,
            "grid_gap": null,
            "max_width": null,
            "order": null,
            "_view_module_version": "1.2.0",
            "grid_template_areas": null,
            "object_position": null,
            "object_fit": null,
            "grid_auto_columns": null,
            "margin": null,
            "display": null,
            "left": null
          }
        }
      }
    },
    "accelerator": "GPU"
  },
  "cells": [
    {
      "cell_type": "code",
      "metadata": {
        "id": "i_TziN069euC",
        "colab": {
          "base_uri": "https://localhost:8080/"
        },
        "outputId": "5af989aa-691a-44d0-806e-e3aa9760d4dc"
      },
      "source": [
        "# install huggingface Transformers [https://huggingface.co/transformers/installation.html]\n",
        "\n",
        "# Many transformer based models in a single library: https://github.com/huggingface/transformers#model-architectures\n",
        "! pip install transformers\n",
        "\n",
        "# This week: we will use HuggingFace BERT implementations.\n",
        "# Next sessions: Build an encoder-decoder seq-seq Transfomer from scratch using TF/Keras."
      ],
      "execution_count": 1,
      "outputs": [
        {
          "output_type": "stream",
          "name": "stdout",
          "text": [
            "Collecting transformers\n",
            "  Downloading transformers-4.10.2-py3-none-any.whl (2.8 MB)\n",
            "\u001b[K     |████████████████████████████████| 2.8 MB 5.0 MB/s \n",
            "\u001b[?25hCollecting huggingface-hub>=0.0.12\n",
            "  Downloading huggingface_hub-0.0.17-py3-none-any.whl (52 kB)\n",
            "\u001b[K     |████████████████████████████████| 52 kB 1.6 MB/s \n",
            "\u001b[?25hCollecting sacremoses\n",
            "  Downloading sacremoses-0.0.45-py3-none-any.whl (895 kB)\n",
            "\u001b[K     |████████████████████████████████| 895 kB 57.0 MB/s \n",
            "\u001b[?25hRequirement already satisfied: requests in /usr/local/lib/python3.7/dist-packages (from transformers) (2.23.0)\n",
            "Requirement already satisfied: numpy>=1.17 in /usr/local/lib/python3.7/dist-packages (from transformers) (1.19.5)\n",
            "Requirement already satisfied: packaging in /usr/local/lib/python3.7/dist-packages (from transformers) (21.0)\n",
            "Requirement already satisfied: regex!=2019.12.17 in /usr/local/lib/python3.7/dist-packages (from transformers) (2019.12.20)\n",
            "Collecting tokenizers<0.11,>=0.10.1\n",
            "  Downloading tokenizers-0.10.3-cp37-cp37m-manylinux_2_5_x86_64.manylinux1_x86_64.manylinux_2_12_x86_64.manylinux2010_x86_64.whl (3.3 MB)\n",
            "\u001b[K     |████████████████████████████████| 3.3 MB 54.0 MB/s \n",
            "\u001b[?25hRequirement already satisfied: tqdm>=4.27 in /usr/local/lib/python3.7/dist-packages (from transformers) (4.62.0)\n",
            "Collecting pyyaml>=5.1\n",
            "  Downloading PyYAML-5.4.1-cp37-cp37m-manylinux1_x86_64.whl (636 kB)\n",
            "\u001b[K     |████████████████████████████████| 636 kB 35.1 MB/s \n",
            "\u001b[?25hRequirement already satisfied: filelock in /usr/local/lib/python3.7/dist-packages (from transformers) (3.0.12)\n",
            "Requirement already satisfied: importlib-metadata in /usr/local/lib/python3.7/dist-packages (from transformers) (4.6.4)\n",
            "Requirement already satisfied: typing-extensions in /usr/local/lib/python3.7/dist-packages (from huggingface-hub>=0.0.12->transformers) (3.7.4.3)\n",
            "Requirement already satisfied: pyparsing>=2.0.2 in /usr/local/lib/python3.7/dist-packages (from packaging->transformers) (2.4.7)\n",
            "Requirement already satisfied: zipp>=0.5 in /usr/local/lib/python3.7/dist-packages (from importlib-metadata->transformers) (3.5.0)\n",
            "Requirement already satisfied: urllib3!=1.25.0,!=1.25.1,<1.26,>=1.21.1 in /usr/local/lib/python3.7/dist-packages (from requests->transformers) (1.24.3)\n",
            "Requirement already satisfied: certifi>=2017.4.17 in /usr/local/lib/python3.7/dist-packages (from requests->transformers) (2021.5.30)\n",
            "Requirement already satisfied: chardet<4,>=3.0.2 in /usr/local/lib/python3.7/dist-packages (from requests->transformers) (3.0.4)\n",
            "Requirement already satisfied: idna<3,>=2.5 in /usr/local/lib/python3.7/dist-packages (from requests->transformers) (2.10)\n",
            "Requirement already satisfied: click in /usr/local/lib/python3.7/dist-packages (from sacremoses->transformers) (7.1.2)\n",
            "Requirement already satisfied: joblib in /usr/local/lib/python3.7/dist-packages (from sacremoses->transformers) (1.0.1)\n",
            "Requirement already satisfied: six in /usr/local/lib/python3.7/dist-packages (from sacremoses->transformers) (1.15.0)\n",
            "Installing collected packages: tokenizers, sacremoses, pyyaml, huggingface-hub, transformers\n",
            "  Attempting uninstall: pyyaml\n",
            "    Found existing installation: PyYAML 3.13\n",
            "    Uninstalling PyYAML-3.13:\n",
            "      Successfully uninstalled PyYAML-3.13\n",
            "Successfully installed huggingface-hub-0.0.17 pyyaml-5.4.1 sacremoses-0.0.45 tokenizers-0.10.3 transformers-4.10.2\n"
          ]
        }
      ]
    },
    {
      "cell_type": "code",
      "metadata": {
        "id": "M4O7AVSr-GA1"
      },
      "source": [
        "# Reference: https://medium.com/tensorflow/using-tensorflow-2-for-state-of-the-art-natural-language-processing-102445cda54a\n",
        "# Ref: https://huggingface.co/transformers/notebooks.html"
      ],
      "execution_count": 2,
      "outputs": []
    },
    {
      "cell_type": "code",
      "metadata": {
        "id": "BMvKYmV48aHi",
        "colab": {
          "base_uri": "https://localhost:8080/"
        },
        "outputId": "40e1d59f-723c-4296-8496-f9148ac627b0"
      },
      "source": [
        "%tensorflow_version 2.x\n",
        "import tensorflow as tf\n",
        "print(tf.__version__)"
      ],
      "execution_count": 3,
      "outputs": [
        {
          "output_type": "stream",
          "name": "stdout",
          "text": [
            "2.6.0\n"
          ]
        }
      ]
    },
    {
      "cell_type": "markdown",
      "metadata": {
        "id": "sBkJIsJzBDLb"
      },
      "source": [
        "## Tokenization"
      ]
    },
    {
      "cell_type": "code",
      "metadata": {
        "id": "8aihC2QV6IXk",
        "colab": {
          "base_uri": "https://localhost:8080/"
        },
        "outputId": "4267818f-7f4d-4dda-8fca-712234abe703"
      },
      "source": [
        "# Tokenization: map words to ids\n",
        "# Refer: https://colab.research.google.com/github/huggingface/transformers/blob/master/notebooks/01-training-tokenizers.ipynb#scrollTo=LgktNYt7ADPS\n",
        "\n",
        "# simple example\n",
        "s = \"\"\"qpr keeper day heads for preston queens park rangers \n",
        "      keeper chris day is set to join preston on a month s loan.  \n",
        "      day has been displaced by the arrival of simon royce  \n",
        "      who is in his second month on loan from charlton.\n",
        "      qpr have also signed italian generoso rossi. r s \n",
        "      manager ian holloway said:  some might say \n",
        "      it s a risk as he can t be recalled during \n",
        "      that month and simon royce can now be recalled by charlton.  \n",
        "      but i have other irons in the fire. i have had a  yes  from a \n",
        "      couple of others should i need them.   \n",
        "      day s rangers contract expires in the summer. \n",
        "      meanwhile  holloway is hoping to complete the \n",
        "      signing of middlesbrough defender andy davies - \n",
        "      either permanently or again on loan - before saturday s match at ipswich. \n",
        "      davies impressed during a recent loan spell at loftus road. holloway is\n",
        "       also chasing bristol city midfielder tom doherty.\"\"\"\n",
        "words = s.split(\" \")  # Split over space\n",
        "vocabulary = dict(enumerate(set(words)))  # Map storing the word to it's corresponding id\n",
        "\n",
        "print(vocabulary)\n",
        "\n",
        "# Problems: cat(1123) vs cats(1346)"
      ],
      "execution_count": 19,
      "outputs": [
        {
          "output_type": "stream",
          "name": "stdout",
          "text": [
            "{0: '', 1: 'heads', 2: 'recalled', 3: 'can', 4: 's', 5: 'is', 6: 'royce', 7: 'during', 8: 'have', 9: 'second', 10: 'i', 11: 'match', 12: 'as', 13: 'summer.', 14: 'and', 15: 'said:', 16: 'at', 17: 'couple', 18: 'is\\n', 19: 'signing', 20: 'hoping', 21: 'join', 22: 'contract', 23: 'irons', 24: 'manager', 25: 'fire.', 26: 'meanwhile', 27: 'ipswich.', 28: 't', 29: 'to', 30: 'he', 31: 'on', 32: 'risk', 33: 'now', 34: 'the', 35: 'recent', 36: 'doherty.', 37: 'a', 38: 'chris', 39: 'spell', 40: 'before', 41: 'might', 42: 'r', 43: 'bristol', 44: 'again', 45: 'say', 46: 'loftus', 47: 'month', 48: 'should', 49: 'in', 50: 'holloway', 51: 'his', 52: 'arrival', 53: 'but', 54: 'had', 55: 'preston', 56: 'italian', 57: 'need', 58: 'others', 59: 'loan', 60: 'yes', 61: 'displaced', 62: 'some', 63: 'signed', 64: 'middlesbrough', 65: 'charlton.\\n', 66: 'keeper', 67: 'generoso', 68: 'loan.', 69: 'davies', 70: 'of', 71: 'saturday', 72: 'either', 73: 'chasing', 74: 'defender', 75: 'impressed', 76: 'tom', 77: 'complete', 78: 'that', 79: 'rossi.', 80: 'midfielder', 81: 'expires', 82: 'be', 83: 'qpr', 84: 'charlton.', 85: 'other', 86: 'them.', 87: 'queens', 88: '\\n', 89: 'who', 90: 'day', 91: 'it', 92: 'city', 93: 'permanently', 94: 'been', 95: 'simon', 96: 'from', 97: 'ian', 98: 'by', 99: 'park', 100: 'rangers', 101: '-', 102: 'andy', 103: 'for', 104: 'also', 105: 'road.', 106: 'set', 107: 'or', 108: 'has'}\n"
          ]
        }
      ]
    },
    {
      "cell_type": "markdown",
      "metadata": {
        "id": "XMts2iRpCQ82"
      },
      "source": [
        "### Sub-tokenization\n",
        "\n",
        "- Why? : fast vs faster, cat vs cats\n",
        "- example: cats --**bold text**> [cat, ##s]\n",
        "- Image: https://nlp.fast.ai/images/multifit_vocabularies.png\n",
        "\n",
        "<img src=\"https://nlp.fast.ai/images/multifit_vocabularies.png\" alt=\"Smiley face\" height=\"75%\" width=\"75%\">\n"
      ]
    },
    {
      "cell_type": "code",
      "metadata": {
        "id": "R3LbFrDUp3AF"
      },
      "source": [
        ""
      ],
      "execution_count": 19,
      "outputs": []
    },
    {
      "cell_type": "code",
      "metadata": {
        "id": "GvJesOx6p3Pj"
      },
      "source": [
        ""
      ],
      "execution_count": 19,
      "outputs": []
    },
    {
      "cell_type": "markdown",
      "metadata": {
        "id": "N6JpUezDDLOw"
      },
      "source": [
        "### Tokenization in huggingface"
      ]
    },
    {
      "cell_type": "code",
      "metadata": {
        "id": "8ug084UQCbM9"
      },
      "source": [
        "from transformers import BertTokenizer\n",
        "bert_tokenizer = BertTokenizer.from_pretrained(\"bert-base-cased\") "
      ],
      "execution_count": 20,
      "outputs": []
    },
    {
      "cell_type": "code",
      "metadata": {
        "id": "ipBz-0-3p8c6",
        "colab": {
          "base_uri": "https://localhost:8080/"
        },
        "outputId": "f00d160e-f7e8-4491-f7ad-abc51aaca9cc"
      },
      "source": [
        "# Refer BERT architecture from the previous videos in the course.\n",
        "\n",
        "#https://huggingface.co/transformers/main_classes/tokenizer.html\n",
        "print(bert_tokenizer.cls_token)"
      ],
      "execution_count": 21,
      "outputs": [
        {
          "output_type": "stream",
          "name": "stdout",
          "text": [
            "[CLS]\n"
          ]
        }
      ]
    },
    {
      "cell_type": "code",
      "metadata": {
        "id": "S6oLFVcu8iAK",
        "colab": {
          "base_uri": "https://localhost:8080/"
        },
        "outputId": "0c383a01-bbd8-4556-b4ac-6d387769595d"
      },
      "source": [
        "enc = bert_tokenizer.encode(s)\n",
        "print(enc)\n",
        "\n",
        "print(bert_tokenizer.decode(enc))"
      ],
      "execution_count": 22,
      "outputs": [
        {
          "output_type": "stream",
          "name": "stdout",
          "text": [
            "[101, 186, 1643, 1197, 13852, 1285, 4075, 1111, 3073, 6186, 5746, 1116, 2493, 2079, 1733, 13852, 22572, 4889, 1285, 1110, 1383, 1106, 2866, 3073, 6186, 1113, 170, 2370, 188, 4891, 119, 1285, 1144, 1151, 13577, 1118, 1103, 4870, 1104, 27466, 7130, 187, 7341, 2093, 1150, 1110, 1107, 1117, 1248, 2370, 1113, 4891, 1121, 22572, 1813, 13464, 119, 186, 1643, 1197, 1138, 1145, 1878, 1122, 19457, 1179, 5565, 5864, 1186, 187, 13159, 1182, 119, 187, 188, 2618, 178, 1389, 11134, 4164, 1163, 131, 1199, 1547, 1474, 1122, 188, 170, 3187, 1112, 1119, 1169, 189, 1129, 6901, 1219, 1115, 2370, 1105, 27466, 7130, 187, 7341, 2093, 1169, 1208, 1129, 6901, 1118, 22572, 1813, 13464, 119, 1133, 178, 1138, 1168, 3926, 1116, 1107, 1103, 1783, 119, 178, 1138, 1125, 170, 4208, 1121, 170, 2337, 1104, 1639, 1431, 178, 1444, 1172, 119, 1285, 188, 2079, 1733, 2329, 4252, 20082, 1116, 1107, 1103, 2247, 119, 17527, 11134, 4164, 1110, 4717, 1106, 2335, 1103, 6086, 1104, 2243, 1116, 12725, 6289, 8919, 1105, 1183, 5358, 24848, 118, 1719, 8321, 1137, 1254, 1113, 4891, 118, 1196, 2068, 2149, 6194, 188, 1801, 1120, 178, 3491, 9242, 119, 5358, 24848, 7351, 1219, 170, 2793, 4891, 5814, 1120, 24677, 1361, 1812, 119, 11134, 4164, 1110, 1145, 13333, 9304, 1776, 4063, 1331, 8852, 1106, 1306, 1202, 4679, 2340, 119, 102]\n",
            "[CLS] qpr keeper day heads for preston queens park rangers keeper chris day is set to join preston on a month s loan. day has been displaced by the arrival of simon royce who is in his second month on loan from charlton. qpr have also signed italian generoso rossi. r s manager ian holloway said : some might say it s a risk as he can t be recalled during that month and simon royce can now be recalled by charlton. but i have other irons in the fire. i have had a yes from a couple of others should i need them. day s rangers contract expires in the summer. meanwhile holloway is hoping to complete the signing of middlesbrough defender andy davies - either permanently or again on loan - before saturday s match at ipswich. davies impressed during a recent loan spell at loftus road. holloway is also chasing bristol city midfielder tom doherty. [SEP]\n"
          ]
        }
      ]
    },
    {
      "cell_type": "code",
      "metadata": {
        "id": "vkaeZATw9DpI",
        "colab": {
          "base_uri": "https://localhost:8080/"
        },
        "outputId": "3285f157-098f-4984-ecc7-97f741ad94ad"
      },
      "source": [
        "print(bert_tokenizer.decode([117]))\n",
        "print(bert_tokenizer.decode([106]))"
      ],
      "execution_count": 23,
      "outputs": [
        {
          "output_type": "stream",
          "name": "stdout",
          "text": [
            ",\n",
            "!\n"
          ]
        }
      ]
    },
    {
      "cell_type": "code",
      "metadata": {
        "id": "k2qSy-ZB9ZOT",
        "colab": {
          "base_uri": "https://localhost:8080/"
        },
        "outputId": "c6017770-37b2-43a6-aa9f-1e9ce6891299"
      },
      "source": [
        "enc = bert_tokenizer.encode(\"I see many cats and dogs\")\n",
        "print(enc)\n",
        "\n",
        "print(bert_tokenizer.decode(enc))"
      ],
      "execution_count": 24,
      "outputs": [
        {
          "output_type": "stream",
          "name": "stdout",
          "text": [
            "[101, 146, 1267, 1242, 11771, 1105, 6363, 102]\n",
            "[CLS] I see many cats and dogs [SEP]\n"
          ]
        }
      ]
    },
    {
      "cell_type": "markdown",
      "metadata": {
        "id": "SPtLW4caAOo4"
      },
      "source": [
        ""
      ]
    },
    {
      "cell_type": "markdown",
      "metadata": {
        "id": "FK31Jni1-d5b"
      },
      "source": [
        "## BERT Models\n",
        "- DistillBERT\n",
        "- RoBERTa\n",
        "- https://miro.medium.com/max/2000/1*IFVX74cEe8U5D1GveL1uZA.png \n",
        "<img src=\"https://miro.medium.com/max/2000/1*IFVX74cEe8U5D1GveL1uZA.png \" alt=\"Smiley face\" height=\"75%\" width=\"75%\">\n",
        "\n",
        "- https://miro.medium.com/max/1400/1*bSUO_Qib4te1xQmBlQjWaw.png\n",
        "<img src=\"https://miro.medium.com/max/1400/1*bSUO_Qib4te1xQmBlQjWaw.png \" alt=\"Smiley face\" height=\"75%\" width=\"75%\">\n",
        "\n",
        "- General Language Understanding Evaluation (GLUE)  : https://gluebenchmark.com/\n"
      ]
    },
    {
      "cell_type": "code",
      "metadata": {
        "id": "OOLvZ1um-nLV",
        "colab": {
          "base_uri": "https://localhost:8080/",
          "height": 284,
          "referenced_widgets": [
            "bf470397e90f423f979019092a750840",
            "7790209f54534945b28454a8709ae4d6",
            "ad45ebf71e1241b1afe37e57c8c91931",
            "16220db71174431a901d4502ebeef16e",
            "fd50f72a0a334bb3a2f89bd5595510ce",
            "e25f0c524cb642cd81a996425c083fe3",
            "799e0e8f1fc6430fb1d99ed38667c75e",
            "d68fdccf44af419d8473914b8c99ad50",
            "ebf29958bea74ffab4ed14b89c3c0e94",
            "b4b18af433eb4087beffa0d549cef0ba",
            "e51cf223ba6b4a36a0a0d86babae9f3e",
            "bf76b9228ad44a1d8047599b533f42d5",
            "894a338e93424a6f875f37ded58c0f22",
            "c31212df225e4cbfa2fe32d59e599129",
            "57429dbd1e824ecaa6763f0164e51b62",
            "089635f526ee41478ba07e4cbf8c1115",
            "271b4b04a9ad4928afe292d95ea0217e",
            "63bf807a410f426eb0d80c17e0457d07",
            "a80236fea9914756ad13fa0052cf3284",
            "8903234c09e04f10845ee6ec5fd5b8ea",
            "4302f5cfd7904afca92e88bbae739e0c",
            "7d5a0ca1f3e749b886f408cd80a6896f",
            "74b2d35d93094674a6ac9c186ad44e9f",
            "545251753ab34b06aac7cb1dc649e0a6",
            "6f46b28207c34fbc9a869c14c2aacd39",
            "7e92588fb47b484aa4c1cc2f36ac4eeb",
            "2e5b1821664a468097521dc16a8ddb23",
            "78db09e4496a47abbad7ee686d00176e",
            "e657d393058247dcad7e0c2bebb8bc87",
            "26783dbe8ae64918ad239232bf327e8d",
            "775a3cbd97e1481c80b46e515babed24",
            "e3bd9fb59a7a43f186df90de426629c8",
            "ecc686f7fe5744a08693b79990afc283",
            "731ba12dc2994e59969c36d1276d2181",
            "41f647c2605a4ed99a1c9bc13e68aee6",
            "5a1fd7d0159247c9a72266da07d9ba52",
            "7034936d6f0b4a368f4b1c6e6aacc8d4",
            "b573934018f249288cdabf8b55c1c0f8",
            "5abfd4d6d7ff4df5803c1ae16c128dc5",
            "1c71d268c3594e1fbb014eb7e2ad130b",
            "81f580b0c1b9417f9b7f3cc135dd84b3",
            "7bb8374f4d6a4e12840106a661c4612b",
            "e80a436ac5fd4116add0c9da7d55d8f2",
            "9f4af15fe29a4685836d7ac42d234da4",
            "3cd70156a572481ab9c806f9afb7726f",
            "c19cd0cc8e6b4546b91a4a0c9c32d1bc",
            "0af21b7ec5a5466f830ee945cbc2529f",
            "2910cde5038a4099aa0502c2df6724e1",
            "74ef72a01ed5475ab6f9ddbfb909fa5b",
            "aa351c3762364c0ea639f4d1304e83d0",
            "cba9e490de7d4dea9e40c787fc3f1fc4",
            "b661243be4b44075a14df84ce203e759",
            "0848d34b3bad496fa6a2eff2b010c16f",
            "a524dee66a294b3d8456a61ffe89563d",
            "5829be7fff184f0cb28a75617fbf5f0c"
          ]
        },
        "outputId": "7838ffbc-317a-4cec-96fb-8b797fa4ba19"
      },
      "source": [
        "import tensorflow as tf\n",
        "\n",
        "# Refer: https://huggingface.co/transformers/model_doc/distilbert.html#\n",
        "\n",
        "from transformers import DistilBertTokenizer, TFDistilBertModel\n",
        "\n",
        "distil_bert = 'distilbert-base-uncased' # Name of the pretrained models\n",
        "\n",
        "#DistilBERT \n",
        "tokenizer = DistilBertTokenizer.from_pretrained(distil_bert)\n",
        "model = TFDistilBertModel.from_pretrained(distil_bert)"
      ],
      "execution_count": 10,
      "outputs": [
        {
          "output_type": "display_data",
          "data": {
            "application/vnd.jupyter.widget-view+json": {
              "model_id": "bf470397e90f423f979019092a750840",
              "version_minor": 0,
              "version_major": 2
            },
            "text/plain": [
              "Downloading:   0%|          | 0.00/232k [00:00<?, ?B/s]"
            ]
          },
          "metadata": {}
        },
        {
          "output_type": "display_data",
          "data": {
            "application/vnd.jupyter.widget-view+json": {
              "model_id": "bf76b9228ad44a1d8047599b533f42d5",
              "version_minor": 0,
              "version_major": 2
            },
            "text/plain": [
              "Downloading:   0%|          | 0.00/28.0 [00:00<?, ?B/s]"
            ]
          },
          "metadata": {}
        },
        {
          "output_type": "display_data",
          "data": {
            "application/vnd.jupyter.widget-view+json": {
              "model_id": "74b2d35d93094674a6ac9c186ad44e9f",
              "version_minor": 0,
              "version_major": 2
            },
            "text/plain": [
              "Downloading:   0%|          | 0.00/466k [00:00<?, ?B/s]"
            ]
          },
          "metadata": {}
        },
        {
          "output_type": "display_data",
          "data": {
            "application/vnd.jupyter.widget-view+json": {
              "model_id": "731ba12dc2994e59969c36d1276d2181",
              "version_minor": 0,
              "version_major": 2
            },
            "text/plain": [
              "Downloading:   0%|          | 0.00/483 [00:00<?, ?B/s]"
            ]
          },
          "metadata": {}
        },
        {
          "output_type": "display_data",
          "data": {
            "application/vnd.jupyter.widget-view+json": {
              "model_id": "3cd70156a572481ab9c806f9afb7726f",
              "version_minor": 0,
              "version_major": 2
            },
            "text/plain": [
              "Downloading:   0%|          | 0.00/363M [00:00<?, ?B/s]"
            ]
          },
          "metadata": {}
        },
        {
          "output_type": "stream",
          "name": "stderr",
          "text": [
            "Some layers from the model checkpoint at distilbert-base-uncased were not used when initializing TFDistilBertModel: ['vocab_transform', 'activation_13', 'vocab_layer_norm', 'vocab_projector']\n",
            "- This IS expected if you are initializing TFDistilBertModel from the checkpoint of a model trained on another task or with another architecture (e.g. initializing a BertForSequenceClassification model from a BertForPreTraining model).\n",
            "- This IS NOT expected if you are initializing TFDistilBertModel from the checkpoint of a model that you expect to be exactly identical (initializing a BertForSequenceClassification model from a BertForSequenceClassification model).\n",
            "All the layers of TFDistilBertModel were initialized from the model checkpoint at distilbert-base-uncased.\n",
            "If your task is similar to the task the model of the checkpoint was trained on, you can already use TFDistilBertModel for predictions without further training.\n"
          ]
        }
      ]
    },
    {
      "cell_type": "markdown",
      "metadata": {
        "id": "YIKTHZgYozXV"
      },
      "source": [
        "### Extract features using BERT"
      ]
    },
    {
      "cell_type": "code",
      "metadata": {
        "id": "uGyAieE8JI1F",
        "colab": {
          "base_uri": "https://localhost:8080/"
        },
        "outputId": "cbca2e9f-831c-4fa6-a22e-e3369ec5399f"
      },
      "source": [
        "# obtain the 768-dim vector correpsoding to [CLS] which is a sentence vector\n",
        "\n",
        "e = tokenizer.encode(\"Hello, my dog is cute\")\n",
        "print(e)\n",
        "\n",
        "input = tf.constant(e)[None, :]  # Batch size 1 \n",
        "print(input)\n",
        "print(type(input)) # shape: [1,8]\n",
        "\n",
        "output = model(input)\n",
        "\n",
        "print(type(output))\n",
        "print(len(output))\n",
        "print(output) #shape[1,8,768]\n"
      ],
      "execution_count": 11,
      "outputs": [
        {
          "output_type": "stream",
          "name": "stdout",
          "text": [
            "[101, 7592, 1010, 2026, 3899, 2003, 10140, 102]\n",
            "tf.Tensor([[  101  7592  1010  2026  3899  2003 10140   102]], shape=(1, 8), dtype=int32)\n",
            "<class 'tensorflow.python.framework.ops.EagerTensor'>\n",
            "<class 'transformers.modeling_tf_outputs.TFBaseModelOutput'>\n",
            "1\n",
            "TFBaseModelOutput(last_hidden_state=<tf.Tensor: shape=(1, 8, 768), dtype=float32, numpy=\n",
            "array([[[-1.82963774e-01, -7.40540549e-02,  5.02674095e-02, ...,\n",
            "         -1.12606734e-01,  4.44930971e-01,  4.09413040e-01],\n",
            "        [ 7.06680119e-04,  1.48253337e-01,  3.43283057e-01, ...,\n",
            "         -8.60397667e-02,  6.94747686e-01,  4.33527604e-02],\n",
            "        [-5.07205844e-01,  5.30855238e-01,  3.71626318e-01, ...,\n",
            "         -5.62874436e-01,  1.37556717e-01,  2.84752369e-01],\n",
            "        ...,\n",
            "        [-4.22513336e-01,  5.73145002e-02,  2.43383020e-01, ...,\n",
            "         -1.52226627e-01,  2.44624183e-01,  6.41548455e-01],\n",
            "        [-4.93844360e-01, -1.88954756e-01,  1.26407951e-01, ...,\n",
            "          6.32405356e-02,  3.69128406e-01, -5.82516044e-02],\n",
            "        [ 8.32686663e-01,  2.49481991e-01, -4.54395175e-01, ...,\n",
            "          1.19975343e-01, -3.92573088e-01, -2.77853400e-01]]],\n",
            "      dtype=float32)>, hidden_states=None, attentions=None)\n"
          ]
        }
      ]
    },
    {
      "cell_type": "code",
      "metadata": {
        "id": "ZO0dlA-hMXay",
        "colab": {
          "base_uri": "https://localhost:8080/"
        },
        "outputId": "b2d306c1-0516-474a-c30d-e7c638f38f87"
      },
      "source": [
        "#[CLS] corresponding vector\n",
        "print((output[0])[0,0,:])  # shape: 768 dim vector"
      ],
      "execution_count": 12,
      "outputs": [
        {
          "output_type": "stream",
          "name": "stdout",
          "text": [
            "tf.Tensor(\n",
            "[-1.82963774e-01 -7.40540549e-02  5.02674095e-02 -3.49530458e-01\n",
            " -7.28532523e-02 -2.63872445e-01  2.39293307e-01  4.79842156e-01\n",
            " -2.14802250e-01 -1.89516425e-01  8.99829119e-02 -1.29189178e-01\n",
            " -1.11275822e-01  3.16634476e-01 -8.25903788e-02  9.26224291e-02\n",
            " -2.09082961e-02  4.74875957e-01  1.28833681e-01  3.18708085e-03\n",
            " -1.53505534e-01 -3.57001662e-01  9.89357010e-04 -3.92756052e-03\n",
            "  1.38443802e-02 -5.49409352e-02  8.45260695e-02  1.36564374e-01\n",
            "  2.18252391e-01 -1.96798757e-01  2.47997232e-02  1.75569355e-01\n",
            " -3.97218466e-02 -1.10777520e-01  5.48526756e-02  6.07530065e-02\n",
            "  1.72000788e-02 -1.07415304e-01 -8.76946002e-02  2.12042034e-01\n",
            " -4.05893624e-02 -3.17955948e-02  1.37657106e-01 -1.39004663e-01\n",
            " -4.68873233e-03 -3.97633076e-01 -2.60034633e+00 -1.08741559e-01\n",
            "  4.86709736e-02 -3.61387700e-01  3.71814340e-01 -7.61096030e-02\n",
            "  3.23911458e-02  2.31666565e-01  2.63016075e-01  3.18299800e-01\n",
            " -3.87970716e-01  2.98111439e-01 -4.93028015e-02 -3.59301530e-02\n",
            "  1.58540770e-01  6.64181635e-02 -1.98168322e-01  2.01571882e-02\n",
            " -3.06719452e-01  2.75268197e-01 -5.75726107e-02  1.99012354e-01\n",
            " -1.81322306e-01  5.15817225e-01 -2.86957510e-02 -1.18355855e-01\n",
            "  1.32884324e-01 -7.50624016e-02  1.13557056e-01 -4.68250364e-02\n",
            "  1.44348107e-02  2.31869832e-01 -1.80278137e-01  2.84714907e-01\n",
            " -1.01262696e-01  2.02373624e-01  4.91597891e-01  2.72795558e-01\n",
            "  4.77180481e-02  1.66064233e-01 -2.38973767e-01 -9.58863050e-02\n",
            "  2.39367515e-01  3.80263925e-01 -2.34181494e-01 -1.66364923e-01\n",
            " -4.13462333e-02  2.57076025e-01  4.31303650e-01 -3.15999597e-01\n",
            " -7.02400059e-02  1.14386581e-01  2.16973394e-01  1.96187183e-01\n",
            "  8.51509348e-02 -1.42221481e-01  2.56942749e-01 -2.17944935e-01\n",
            " -6.99572265e-03 -2.12191537e-01  1.43578127e-01 -4.75275010e-01\n",
            "  5.17553464e-02 -2.40377855e+00  2.53657401e-01  9.18116570e-02\n",
            " -9.21669677e-02 -4.41745579e-01 -5.84073365e-02  6.90732241e-01\n",
            "  4.17964458e-01 -8.59406404e-03 -1.34421512e-01  5.17783538e-02\n",
            " -1.08743981e-01  8.65205973e-02 -1.71955377e-02 -3.32326561e-01\n",
            "  1.51767001e-01  3.29324841e-01 -6.66765720e-02 -9.02035907e-02\n",
            "  2.35938773e-01  2.36411005e-01  3.33305061e-01  4.67729777e-01\n",
            "  4.28324454e-02 -1.42506212e-01 -1.08116522e-01  2.27771282e-01\n",
            "  2.94073254e-01 -1.39985114e-01 -1.00884616e-01 -4.09670919e-03\n",
            " -2.31504872e-01  1.21926218e-01 -2.90576911e+00  2.96339601e-01\n",
            "  4.99315381e-01  6.20901212e-02 -2.88699031e-01  5.02854735e-02\n",
            "  5.06085530e-03  1.55305758e-01  7.64142722e-02  1.15471259e-01\n",
            " -2.38395512e-01  4.13822904e-02 -3.14426631e-01  4.59133983e-02\n",
            " -3.75107080e-01  5.39005063e-02  2.24994913e-01  2.77922660e-01\n",
            "  1.78462282e-01 -9.54106599e-02 -1.94173053e-01  6.76061064e-02\n",
            " -1.60752013e-01  2.29953736e-01  5.06648302e-01  7.67756999e-02\n",
            "  4.87564988e-02  4.56528850e-02 -3.77925858e-02  3.41988094e-02\n",
            "  4.74492192e-01  2.37052068e-02  2.66929597e-01 -5.50256781e-02\n",
            "  3.91381621e-01  8.17277133e-02 -1.15859210e-01 -1.70160681e-01\n",
            " -5.73052466e-02  1.40599191e-01  1.23220816e-01  1.65379703e-01\n",
            "  9.10497978e-02 -1.43807977e-02  3.66103739e-01 -1.63924009e-01\n",
            " -8.08840692e-02  2.59248137e-01  2.10392214e-02 -2.05531463e-01\n",
            "  1.09672800e-01  1.14644125e-01  3.32336068e-01  7.59402812e-02\n",
            "  1.22674339e-01 -5.73982358e-01  1.60009533e-01  6.82829320e-02\n",
            " -1.73094481e-01 -1.99944273e-01  1.59826458e-01  2.52872199e-01\n",
            " -1.70129046e-01  3.64887714e+00 -1.38967395e-01  3.33109535e-02\n",
            "  1.82072580e-01  2.70485789e-01 -1.21637702e-01  1.05418116e-01\n",
            "  1.55229867e-03 -1.30046820e-02  3.18013839e-02  5.77495918e-02\n",
            "  3.96896541e-01 -6.14842512e-02 -1.15159854e-01 -1.08272672e-01\n",
            "  2.36326717e-02  1.32242531e-01 -3.08492362e-01  1.41128451e-01\n",
            "  1.90406516e-02  1.97923616e-01  2.07062423e-01  2.50906974e-01\n",
            "  5.68701364e-02 -1.19320011e+00  9.20889974e-02 -2.82066882e-01\n",
            " -2.16928702e-02  2.61802942e-01 -3.48175704e-01  1.96768530e-02\n",
            "  1.83203369e-01 -1.95327133e-01  2.11400256e-01  8.50235373e-02\n",
            " -1.28696784e-01  3.18605512e-01  2.86378205e-01  1.88539892e-01\n",
            " -2.98403740e-01  2.20937580e-01  1.31015390e-01 -1.02820620e-02\n",
            " -2.68581212e-02 -8.13294202e-02  2.68621504e-01 -1.62331462e-01\n",
            "  1.27714485e-01 -2.98873633e-01  7.01926202e-02 -4.89650108e-02\n",
            "  3.95200290e-02  2.76600510e-01 -3.53134692e-01 -2.21711725e-01\n",
            " -1.68480277e-01 -1.10793643e-01  2.35944435e-01  4.53583747e-02\n",
            " -4.02560502e-01  4.27886769e-02  7.54591823e-02 -2.55471200e-01\n",
            "  9.60167944e-02 -1.43930912e-01 -8.94933343e-02 -7.46150985e-02\n",
            " -3.30272287e-01 -3.46625161e+00  1.24227572e-02 -1.36048794e-01\n",
            "  3.26259851e-01  2.83859372e-01 -2.74549164e-02 -1.36380523e-01\n",
            "  1.31227970e-01  3.47973287e-01 -6.24993384e-01  3.13480347e-01\n",
            "  1.04717933e-01 -6.62788302e-02  1.48699164e-01 -3.66201699e-01\n",
            "  1.69892743e-01  1.43030304e-02 -1.90093577e-01 -5.20566553e-02\n",
            " -1.67159244e-01  8.08381289e-02  1.35975853e-01 -1.30081624e-01\n",
            "  3.54059070e-01  3.65886241e-02 -3.24268229e-02 -1.42222345e-01\n",
            " -1.36649936e-01 -6.62393346e-02 -4.30209190e-02 -1.54817067e-02\n",
            " -2.47256666e-01  2.64774591e-01 -1.90627456e-01 -5.61647654e-01\n",
            " -2.63370275e+00 -6.13704994e-02  7.83838239e-03 -2.00945273e-01\n",
            "  5.77971227e-02 -7.98274949e-02  3.88860822e-01 -1.92674071e-01\n",
            " -1.52788192e-01  2.18081936e-01  1.38541743e-01  5.15476614e-02\n",
            "  5.93836419e-02 -3.63188609e-02  2.52486229e-01 -1.68904290e-01\n",
            "  3.03935766e-01 -2.93073744e-01  9.53445733e-02  2.13944197e-01\n",
            "  7.78933316e-02  6.87419921e-02 -4.60772999e-02 -4.81728315e-02\n",
            "  1.31043613e-01  4.89196599e-01 -2.47310936e-01 -1.25176549e-01\n",
            " -2.68888772e-01  1.69905070e-02  3.04140039e-02 -2.75137365e-01\n",
            "  9.71508622e-02 -5.26915416e-02 -2.99963713e-01 -1.53514087e-01\n",
            "  1.30863264e-01  1.34220168e-01  3.82058352e-01  8.38405788e-02\n",
            "  6.31514192e-02  4.47511315e-01  1.67282775e-01 -7.88349658e-03\n",
            "  4.77932572e-01  8.44855309e-02 -3.11313942e-02 -2.30320096e-01\n",
            " -7.93986171e-02  1.05453372e-01 -6.53302819e-02  1.43372566e-01\n",
            "  1.18262184e+00 -4.21138406e-02  3.34063619e-01 -7.57573694e-02\n",
            "  3.29937875e-01  9.94216949e-02  6.47705719e-02  4.58307564e-03\n",
            "  4.66040373e-01 -5.74507266e-02  8.35538581e-02 -7.57396743e-02\n",
            "  2.60542557e-02 -3.39902282e-01  2.42830385e-02 -4.51532006e-01\n",
            " -1.08395591e-01  1.43879324e-01 -6.19298778e-04  2.22206563e-02\n",
            " -1.85182035e-01 -9.67315853e-01 -2.76357949e-01  2.32633665e-01\n",
            " -2.04712257e-01 -8.55462402e-02 -1.02017842e-01  3.67731079e-02\n",
            " -2.87895441e-01 -2.69007117e-01 -6.31037802e-02  4.66198355e-01\n",
            " -4.17007297e-01 -1.28478259e-01 -2.35913590e-01 -6.02070838e-02\n",
            " -3.66598964e-01  3.29857282e-02 -1.72639936e-01  1.16484225e-01\n",
            " -5.45545742e-02  2.00879321e-01  8.09610933e-02  6.14778847e-02\n",
            "  2.20725030e-01 -7.03784049e-01  1.63218498e-01 -2.42775857e-01\n",
            "  2.94260755e-02 -3.64930816e-02 -1.15544535e-01  1.19456753e-01\n",
            " -2.35307980e-02 -8.58266577e-02 -2.42628798e-01  3.13685685e-01\n",
            "  5.36965206e-02  2.81631052e-01 -1.55662358e-01 -3.08807671e-01\n",
            " -1.67348385e-01  1.49587467e-01  1.02405620e+00 -5.33010885e-02\n",
            "  2.61224285e-02  4.29241598e-01 -1.19603202e-02  3.26767445e-01\n",
            "  2.23125517e-01  1.57707751e-01 -2.33969808e-01 -3.87820154e-02\n",
            " -8.93776864e-02 -8.95165801e-02 -1.58063062e-02 -2.76408792e-01\n",
            " -2.30500311e-01  5.20574749e-02  2.42815539e-01 -1.51045248e-03\n",
            " -3.67174387e-01 -5.44695139e-01  1.83678910e-01 -2.98035592e-01\n",
            " -3.45235407e-01 -1.07845969e-01  3.23619008e-01  3.10016014e-02\n",
            "  1.72840655e-01  1.98270023e-01 -1.32516399e-01  3.18925649e-01\n",
            " -1.70470387e-01  4.16734815e-01 -1.78098567e-02 -5.34222983e-02\n",
            " -2.10131854e-02  1.33843943e-01 -1.26934260e-01 -3.35949183e-01\n",
            "  6.02966994e-02 -3.20586026e-01  2.28375822e-01  1.57170534e-01\n",
            "  1.07503280e-01  4.52579707e-02 -1.44067824e-01  1.25557005e-01\n",
            "  1.17120385e-01  3.68681811e-02 -1.44092906e+00  4.55319583e-01\n",
            "  2.65804864e-03  6.85980693e-02  1.79716706e-01 -5.60319684e-02\n",
            " -6.82102442e-02  2.66576588e-01  2.44327381e-01  1.17831528e-01\n",
            " -7.86481425e-02  1.50259569e-01 -1.98004469e-01  2.23428160e-02\n",
            "  5.40101007e-02 -6.52766153e-02  8.17405134e-02 -1.52527764e-01\n",
            " -2.41478607e-02 -3.05538494e-02  1.89114884e-02  3.25063050e-01\n",
            "  1.07241653e-01  2.36948356e-02  5.40226735e-02 -6.59273267e-02\n",
            "  1.45882025e-01  1.73729524e-01  3.97377796e-02  3.04216623e-01\n",
            "  2.57305540e-02 -2.33873680e-01 -7.23413587e-01 -2.36845523e-01\n",
            "  2.15696812e-01 -9.78176445e-02 -1.07706822e-02 -5.42445630e-02\n",
            "  1.60679817e-02  1.34032369e-01 -4.90797728e-01  2.40851030e-01\n",
            "  1.25754908e-01 -1.04106709e-01  5.20355940e-01  1.66526601e-01\n",
            " -1.65266216e-01  2.95299083e-01  1.62016675e-02 -2.91153073e-01\n",
            "  1.46822512e-01 -1.80529729e-01 -3.49397138e-02 -1.96046531e-01\n",
            " -7.66608864e-05 -1.21094644e-01 -8.96756947e-02  5.56596220e-02\n",
            " -3.61945808e-01 -1.90506913e-02  3.58558059e-01 -2.30404273e-01\n",
            " -3.64994109e-01  8.36466849e-02 -3.69088143e-01 -4.55816448e-01\n",
            " -2.51596451e-01 -2.95682222e-01  6.57208562e-02 -9.50316936e-02\n",
            "  4.98333037e-01  1.02289692e-01 -2.63920903e-01  2.01748803e-01\n",
            " -2.99779564e-01  1.08137242e-01  7.19922334e-02  3.94287556e-01\n",
            "  3.48317176e-01 -1.83384687e-01  1.04481243e-01 -3.31908673e-01\n",
            " -3.20173979e-01  3.27167451e-01 -1.68593436e-01  1.33825824e-01\n",
            " -2.06091553e-02  6.99826032e-02 -2.75661275e-02  1.54763639e-01\n",
            " -1.75365478e-01 -1.56792507e-01 -4.90044281e-02 -5.61797693e-02\n",
            " -2.34199956e-01  2.16859251e-01  5.50557002e-02 -1.01618499e-01\n",
            " -1.43520072e-01 -1.09908119e-01 -1.85715511e-01  4.40243423e-01\n",
            "  2.83944875e-01  1.27737761e-01  3.48632298e-02  1.28400236e-01\n",
            "  1.25559881e-01  1.79128587e-01 -3.51552069e-01 -1.79564357e-01\n",
            "  1.27472997e-01 -5.33758476e-02 -6.86720312e-02  9.85216815e-03\n",
            "  6.14891574e-02 -1.57977611e-01 -2.51014918e-01 -2.38530129e-01\n",
            "  1.99463832e+00  5.30797660e-01 -3.62981334e-02 -1.19774640e-01\n",
            "  3.54485333e-01 -1.36348397e-01 -1.06468156e-01  1.90662369e-01\n",
            " -1.81350783e-01  4.38782990e-01 -1.52346820e-01  2.97309875e-01\n",
            "  4.85172682e-03  1.84560701e-01  5.39814055e-01  2.61829019e-01\n",
            "  2.01007992e-01 -7.66812861e-02 -6.73804939e-01 -1.22319572e-01\n",
            " -3.35514784e-01  1.67748243e-01  3.59637171e-01 -1.95420459e-02\n",
            " -8.59110355e-02  1.83777034e-01  8.31620619e-02 -2.20170170e-02\n",
            " -1.09846294e-01  3.16786677e-01 -1.39384910e-01 -2.47806851e-02\n",
            "  1.76724061e-01  3.52304578e-01 -1.92155421e-01  1.35768175e-01\n",
            "  1.40878558e-01 -3.26477975e-01 -3.32516849e-01  2.78258845e-02\n",
            "  6.72174767e-02 -4.32631850e-01  2.43450329e-01  1.65119395e-01\n",
            " -1.40644461e-01  4.77837682e-01 -1.96697950e-01 -1.46622777e-01\n",
            "  4.71871346e-01  3.83241147e-01 -2.47310668e-01 -1.77689388e-01\n",
            " -2.20501468e-01  2.84740150e-01  5.84799498e-02 -3.75216082e-02\n",
            " -1.52475573e-02 -1.88273221e-01 -8.67708921e-02  2.55617023e-01\n",
            " -2.63450682e-01  2.89569974e-01  1.39412597e-01  7.61570111e-02\n",
            "  3.36094499e-01  6.99161366e-02 -3.14997554e-01  1.18950665e-01\n",
            "  2.26661205e-01 -3.60732973e-01 -5.41435555e-04  5.06484330e-01\n",
            "  2.20257938e-01  4.64702733e-02  1.89109370e-01  8.76350105e-02\n",
            "  2.78846383e-01 -1.29932150e-01 -1.64784431e-01 -2.74102378e+00\n",
            "  1.67532116e-02  1.83713939e-02  6.84272349e-02  1.71559051e-01\n",
            "  3.03114653e-01  3.01917851e-01  4.01073024e-02  2.54131913e-01\n",
            " -3.53497192e-02  2.71483898e-01  1.81621641e-01  4.48273033e-01\n",
            "  3.20000239e-02  4.39897031e-01 -5.78281768e-02  3.16759884e-01\n",
            " -1.94126099e-01 -2.04067260e-01 -4.19520810e-02 -2.94577703e-02\n",
            "  8.93059820e-02  2.27591112e-01 -3.44705015e-01 -4.46881264e-01\n",
            "  1.86223850e-01 -1.47318602e-01 -2.28073776e-01 -9.07054096e-02\n",
            "  1.94505379e-02 -1.23446189e-01  4.36208308e-01 -3.18929613e-01\n",
            " -1.00710746e-02 -4.69478294e-02 -7.06075430e-02 -2.75076449e-01\n",
            " -1.39118880e-02  1.31018773e-01  2.14772940e-01 -1.57195956e-01\n",
            "  5.24373651e-01  3.01656500e-03  2.12966919e-01  5.55376848e-03\n",
            "  4.07889225e-02  2.34339297e-01 -6.88109249e-02  2.27949247e-01\n",
            " -1.57655507e-01 -7.67242759e-02  6.78141713e-02  3.18949252e-01\n",
            "  1.98623285e-01  8.12999606e-02  1.77703634e-01 -3.74089926e-03\n",
            " -5.91547601e-03 -1.41101256e-02 -5.09403944e-01 -1.06276855e-01\n",
            "  2.34553814e-01 -1.86714865e-02  1.10223986e-01  2.10318223e-01\n",
            " -7.98711628e-02 -8.10483396e-02  3.20972130e-03 -1.42225653e-01\n",
            " -2.60842353e-01 -3.67441624e-01 -1.90869644e-02  4.14406180e-01\n",
            "  1.01791427e-01  1.76625438e-02 -9.82003808e-02  4.08166081e-01\n",
            "  2.69283056e-01  2.51791254e-02  3.05708200e-01 -1.29841447e-01\n",
            "  3.09764221e-03 -2.47817244e-02 -1.44122034e-01  1.71705455e-01\n",
            " -7.39391804e+00 -8.13184232e-02  2.41187774e-02 -2.42935985e-01\n",
            " -2.46015251e-01 -4.92817670e-01 -1.13992244e-01 -3.30208063e-01\n",
            "  1.46629393e-01 -1.87319249e-01  2.01923370e-01 -4.60678861e-02\n",
            " -2.09270820e-01 -1.12606734e-01  4.44930971e-01  4.09413040e-01], shape=(768,), dtype=float32)\n"
          ]
        }
      ]
    },
    {
      "cell_type": "code",
      "metadata": {
        "id": "kQTWhdSoOJMH",
        "colab": {
          "base_uri": "https://localhost:8080/"
        },
        "outputId": "55124ada-2d44-4482-e7b6-a880622e5a50"
      },
      "source": [
        "# How about hidden layer outputs\n",
        "\n",
        "#https://huggingface.co/transformers/model_doc/distilbert.html#distilbertconfig\n",
        "from transformers import  DistilBertConfig\n",
        "\n",
        "config = DistilBertConfig.from_pretrained(distil_bert, output_hidden_states=True)\n",
        "\n",
        "\n",
        "e = tokenizer.encode(\"Hello, my dog is cute\")\n",
        "input = tf.constant(e)[None, :]  # Batch size 1 \n",
        "model = TFDistilBertModel.from_pretrained(distil_bert, config=config)\n",
        "print(model.config) # Every model has a config file \n",
        "\n"
      ],
      "execution_count": 13,
      "outputs": [
        {
          "output_type": "stream",
          "name": "stderr",
          "text": [
            "Some layers from the model checkpoint at distilbert-base-uncased were not used when initializing TFDistilBertModel: ['vocab_transform', 'activation_13', 'vocab_layer_norm', 'vocab_projector']\n",
            "- This IS expected if you are initializing TFDistilBertModel from the checkpoint of a model trained on another task or with another architecture (e.g. initializing a BertForSequenceClassification model from a BertForPreTraining model).\n",
            "- This IS NOT expected if you are initializing TFDistilBertModel from the checkpoint of a model that you expect to be exactly identical (initializing a BertForSequenceClassification model from a BertForSequenceClassification model).\n",
            "All the layers of TFDistilBertModel were initialized from the model checkpoint at distilbert-base-uncased.\n",
            "If your task is similar to the task the model of the checkpoint was trained on, you can already use TFDistilBertModel for predictions without further training.\n"
          ]
        },
        {
          "output_type": "stream",
          "name": "stdout",
          "text": [
            "DistilBertConfig {\n",
            "  \"_name_or_path\": \"distilbert-base-uncased\",\n",
            "  \"activation\": \"gelu\",\n",
            "  \"architectures\": [\n",
            "    \"DistilBertForMaskedLM\"\n",
            "  ],\n",
            "  \"attention_dropout\": 0.1,\n",
            "  \"dim\": 768,\n",
            "  \"dropout\": 0.1,\n",
            "  \"hidden_dim\": 3072,\n",
            "  \"initializer_range\": 0.02,\n",
            "  \"max_position_embeddings\": 512,\n",
            "  \"model_type\": \"distilbert\",\n",
            "  \"n_heads\": 12,\n",
            "  \"n_layers\": 6,\n",
            "  \"output_hidden_states\": true,\n",
            "  \"pad_token_id\": 0,\n",
            "  \"qa_dropout\": 0.1,\n",
            "  \"seq_classif_dropout\": 0.2,\n",
            "  \"sinusoidal_pos_embds\": false,\n",
            "  \"tie_weights_\": true,\n",
            "  \"transformers_version\": \"4.10.2\",\n",
            "  \"vocab_size\": 30522\n",
            "}\n",
            "\n"
          ]
        }
      ]
    },
    {
      "cell_type": "code",
      "metadata": {
        "id": "36Ot-PcHQLsA",
        "colab": {
          "base_uri": "https://localhost:8080/"
        },
        "outputId": "b5e1c369-5b81-4641-c368-c0e044c612aa"
      },
      "source": [
        "output = model(input)\n",
        "print(len(output))"
      ],
      "execution_count": 14,
      "outputs": [
        {
          "output_type": "stream",
          "name": "stdout",
          "text": [
            "2\n"
          ]
        }
      ]
    },
    {
      "cell_type": "code",
      "metadata": {
        "id": "m20ikTgZRhgx",
        "colab": {
          "base_uri": "https://localhost:8080/"
        },
        "outputId": "4e8ed707-7e53-4f6e-c048-73be27deccd7"
      },
      "source": [
        "print(output[0])"
      ],
      "execution_count": 15,
      "outputs": [
        {
          "output_type": "stream",
          "name": "stdout",
          "text": [
            "tf.Tensor(\n",
            "[[[-1.82963774e-01 -7.40540549e-02  5.02674095e-02 ... -1.12606734e-01\n",
            "    4.44930971e-01  4.09413040e-01]\n",
            "  [ 7.06680119e-04  1.48253337e-01  3.43283057e-01 ... -8.60397667e-02\n",
            "    6.94747686e-01  4.33527604e-02]\n",
            "  [-5.07205844e-01  5.30855238e-01  3.71626318e-01 ... -5.62874436e-01\n",
            "    1.37556717e-01  2.84752369e-01]\n",
            "  ...\n",
            "  [-4.22513336e-01  5.73145002e-02  2.43383020e-01 ... -1.52226627e-01\n",
            "    2.44624183e-01  6.41548455e-01]\n",
            "  [-4.93844360e-01 -1.88954756e-01  1.26407951e-01 ...  6.32405356e-02\n",
            "    3.69128406e-01 -5.82516044e-02]\n",
            "  [ 8.32686663e-01  2.49481991e-01 -4.54395175e-01 ...  1.19975343e-01\n",
            "   -3.92573088e-01 -2.77853400e-01]]], shape=(1, 8, 768), dtype=float32)\n"
          ]
        }
      ]
    },
    {
      "cell_type": "code",
      "metadata": {
        "id": "i46_6ipxZ7lw",
        "colab": {
          "base_uri": "https://localhost:8080/"
        },
        "outputId": "a944a499-75ac-4e59-f09e-b3c665bbc6e0"
      },
      "source": [
        "output[0].shape"
      ],
      "execution_count": 16,
      "outputs": [
        {
          "output_type": "execute_result",
          "data": {
            "text/plain": [
              "TensorShape([1, 8, 768])"
            ]
          },
          "metadata": {},
          "execution_count": 16
        }
      ]
    },
    {
      "cell_type": "code",
      "metadata": {
        "id": "UZb2pJGVaaqL",
        "colab": {
          "base_uri": "https://localhost:8080/"
        },
        "outputId": "563dc032-2111-41bb-93c3-ae83393b9b24"
      },
      "source": [
        "output[1][0].shape"
      ],
      "execution_count": 17,
      "outputs": [
        {
          "output_type": "execute_result",
          "data": {
            "text/plain": [
              "TensorShape([1, 8, 768])"
            ]
          },
          "metadata": {},
          "execution_count": 17
        }
      ]
    },
    {
      "cell_type": "code",
      "metadata": {
        "id": "LKP1FJRSRkV0",
        "colab": {
          "base_uri": "https://localhost:8080/"
        },
        "outputId": "04d662e1-870b-4284-a4cc-c22f94a53fa3"
      },
      "source": [
        "print(type(output[1]))\n",
        "print(len(output[1])) # 7 Why?\n",
        "print(output[1][6]) # Shape:(1,8,768)"
      ],
      "execution_count": 18,
      "outputs": [
        {
          "output_type": "stream",
          "name": "stdout",
          "text": [
            "<class 'tuple'>\n",
            "7\n",
            "tf.Tensor(\n",
            "[[[-1.82963774e-01 -7.40540549e-02  5.02674095e-02 ... -1.12606734e-01\n",
            "    4.44930971e-01  4.09413040e-01]\n",
            "  [ 7.06680119e-04  1.48253337e-01  3.43283057e-01 ... -8.60397667e-02\n",
            "    6.94747686e-01  4.33527604e-02]\n",
            "  [-5.07205844e-01  5.30855238e-01  3.71626318e-01 ... -5.62874436e-01\n",
            "    1.37556717e-01  2.84752369e-01]\n",
            "  ...\n",
            "  [-4.22513336e-01  5.73145002e-02  2.43383020e-01 ... -1.52226627e-01\n",
            "    2.44624183e-01  6.41548455e-01]\n",
            "  [-4.93844360e-01 -1.88954756e-01  1.26407951e-01 ...  6.32405356e-02\n",
            "    3.69128406e-01 -5.82516044e-02]\n",
            "  [ 8.32686663e-01  2.49481991e-01 -4.54395175e-01 ...  1.19975343e-01\n",
            "   -3.92573088e-01 -2.77853400e-01]]], shape=(1, 8, 768), dtype=float32)\n"
          ]
        }
      ]
    }
  ]
}